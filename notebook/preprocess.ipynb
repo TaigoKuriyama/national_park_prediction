{
  "nbformat": 4,
  "nbformat_minor": 0,
  "metadata": {
    "colab": {
      "name": "preprocess.ipynb",
      "version": "0.3.2",
      "provenance": [],
      "include_colab_link": true
    },
    "kernelspec": {
      "display_name": "Python 3",
      "language": "python",
      "name": "python3"
    }
  },
  "cells": [
    {
      "cell_type": "markdown",
      "metadata": {
        "id": "view-in-github",
        "colab_type": "text"
      },
      "source": [
        "<a href=\"https://colab.research.google.com/github/TaigoKuriyama/national_park_prediction/blob/master/notebook/preprocess.ipynb\" target=\"_parent\"><img src=\"https://colab.research.google.com/assets/colab-badge.svg\" alt=\"Open In Colab\"/></a>"
      ]
    },
    {
      "metadata": {
        "id": "k6aZiXJKxgwl",
        "colab_type": "code",
        "colab": {
          "base_uri": "https://localhost:8080/",
          "height": 122
        },
        "outputId": "bb3406a6-b596-4be6-d9a3-bac942aa3d55"
      },
      "cell_type": "code",
      "source": [
        "# mount google drive \n",
        "from google.colab import drive\n",
        "drive.mount('/content/gdrive')"
      ],
      "execution_count": 2,
      "outputs": [
        {
          "output_type": "stream",
          "text": [
            "Go to this URL in a browser: https://accounts.google.com/o/oauth2/auth?client_id=947318989803-6bn6qk8qdgf4n4g3pfee6491hc0brc4i.apps.googleusercontent.com&redirect_uri=urn%3Aietf%3Awg%3Aoauth%3A2.0%3Aoob&scope=email%20https%3A%2F%2Fwww.googleapis.com%2Fauth%2Fdocs.test%20https%3A%2F%2Fwww.googleapis.com%2Fauth%2Fdrive%20https%3A%2F%2Fwww.googleapis.com%2Fauth%2Fdrive.photos.readonly%20https%3A%2F%2Fwww.googleapis.com%2Fauth%2Fpeopleapi.readonly&response_type=code\n",
            "\n",
            "Enter your authorization code:\n",
            "··········\n",
            "Mounted at /content/gdrive\n"
          ],
          "name": "stdout"
        }
      ]
    },
    {
      "metadata": {
        "id": "FiMl5FhH0XqB",
        "colab_type": "code",
        "colab": {}
      },
      "cell_type": "code",
      "source": [
        "# read train and test data\n",
        "import pandas as pd\n",
        "df_train = pd.read_csv('/content/gdrive/My Drive/train.tsv', sep='\\t')\n",
        "df_test = pd.read_csv('/content/gdrive/My Drive/test.tsv', sep='\\t')\n",
        "df_test = pd.read_csv('/content/gdrive/My Drive/test.tsv', sep='\\t')\n",
        "df_holiday_exc_wkend = pd.read_csv('/content/gdrive/My Drive/holiday.csv')\n",
        "df_nied_oyama = pd.read_csv('/content/gdrive/My Drive/nied_oyama.tsv', sep='\\t')\n",
        "df_nightley = pd.read_csv('/content/gdrive/My Drive/nightley.tsv', sep='\\t')"
      ],
      "execution_count": 0,
      "outputs": []
    },
    {
      "metadata": {
        "id": "nVQ3weEMr1Qp",
        "colab_type": "code",
        "colab": {}
      },
      "cell_type": "code",
      "source": [
        "from sklearn.cross_validation import train_test_split\n",
        "import math\n",
        "import numpy as np\n",
        "from sklearn.metrics import classification_report, roc_auc_score, precision_recall_curve, auc, roc_curve\n",
        "import xgboost as xgb\n",
        "from sklearn.grid_search import GridSearchCV"
      ],
      "execution_count": 0,
      "outputs": []
    },
    {
      "metadata": {
        "id": "NFtliPQ04E8E",
        "colab_type": "text"
      },
      "cell_type": "markdown",
      "source": [
        "## 特徴量エンジニアリング"
      ]
    },
    {
      "metadata": {
        "id": "87A4cxNur1Q0",
        "colab_type": "code",
        "colab": {
          "base_uri": "https://localhost:8080/",
          "height": 204
        },
        "outputId": "9501a217-1672-4de4-f0ce-f388f40c37a2"
      },
      "cell_type": "code",
      "source": [
        "# Feature engineering from datetime\n",
        "def create_date_future(df):\n",
        "    df['datetime'] = pd.to_datetime(df['datetime']) # dtypeをdatetime64に変換\n",
        "    df['year'] = df['datetime'].dt.year\n",
        "    df['month'] = df['datetime'].dt.month\n",
        "    df['day'] = df['datetime'].dt.day\n",
        "    df['dayofweek'] = df['datetime'].dt.dayofweek\n",
        "\n",
        "create_date_future(df_train)\n",
        "create_date_future(df_test)\n",
        "df_train.head()"
      ],
      "execution_count": 30,
      "outputs": [
        {
          "output_type": "execute_result",
          "data": {
            "text/html": [
              "<div>\n",
              "<style scoped>\n",
              "    .dataframe tbody tr th:only-of-type {\n",
              "        vertical-align: middle;\n",
              "    }\n",
              "\n",
              "    .dataframe tbody tr th {\n",
              "        vertical-align: top;\n",
              "    }\n",
              "\n",
              "    .dataframe thead th {\n",
              "        text-align: right;\n",
              "    }\n",
              "</style>\n",
              "<table border=\"1\" class=\"dataframe\">\n",
              "  <thead>\n",
              "    <tr style=\"text-align: right;\">\n",
              "      <th></th>\n",
              "      <th>datetime</th>\n",
              "      <th>park</th>\n",
              "      <th>visitors</th>\n",
              "      <th>year</th>\n",
              "      <th>month</th>\n",
              "      <th>day</th>\n",
              "      <th>dayofweek</th>\n",
              "    </tr>\n",
              "  </thead>\n",
              "  <tbody>\n",
              "    <tr>\n",
              "      <th>0</th>\n",
              "      <td>2015-01-01</td>\n",
              "      <td>阿寒摩周国立公園</td>\n",
              "      <td>11028</td>\n",
              "      <td>2015</td>\n",
              "      <td>1</td>\n",
              "      <td>1</td>\n",
              "      <td>3</td>\n",
              "    </tr>\n",
              "    <tr>\n",
              "      <th>1</th>\n",
              "      <td>2015-01-01</td>\n",
              "      <td>十和田八幡平国立公園</td>\n",
              "      <td>34757</td>\n",
              "      <td>2015</td>\n",
              "      <td>1</td>\n",
              "      <td>1</td>\n",
              "      <td>3</td>\n",
              "    </tr>\n",
              "    <tr>\n",
              "      <th>2</th>\n",
              "      <td>2015-01-01</td>\n",
              "      <td>日光国立公園</td>\n",
              "      <td>29714</td>\n",
              "      <td>2015</td>\n",
              "      <td>1</td>\n",
              "      <td>1</td>\n",
              "      <td>3</td>\n",
              "    </tr>\n",
              "    <tr>\n",
              "      <th>3</th>\n",
              "      <td>2015-01-01</td>\n",
              "      <td>伊勢志摩国立公園</td>\n",
              "      <td>42652</td>\n",
              "      <td>2015</td>\n",
              "      <td>1</td>\n",
              "      <td>1</td>\n",
              "      <td>3</td>\n",
              "    </tr>\n",
              "    <tr>\n",
              "      <th>4</th>\n",
              "      <td>2015-01-01</td>\n",
              "      <td>大山隠岐国立公園</td>\n",
              "      <td>3637</td>\n",
              "      <td>2015</td>\n",
              "      <td>1</td>\n",
              "      <td>1</td>\n",
              "      <td>3</td>\n",
              "    </tr>\n",
              "  </tbody>\n",
              "</table>\n",
              "</div>"
            ],
            "text/plain": [
              "    datetime        park  visitors  year  month  day  dayofweek\n",
              "0 2015-01-01    阿寒摩周国立公園     11028  2015      1    1          3\n",
              "1 2015-01-01  十和田八幡平国立公園     34757  2015      1    1          3\n",
              "2 2015-01-01      日光国立公園     29714  2015      1    1          3\n",
              "3 2015-01-01    伊勢志摩国立公園     42652  2015      1    1          3\n",
              "4 2015-01-01    大山隠岐国立公園      3637  2015      1    1          3"
            ]
          },
          "metadata": {
            "tags": []
          },
          "execution_count": 30
        }
      ]
    },
    {
      "metadata": {
        "id": "Bq0jaeJCr1Q7",
        "colab_type": "code",
        "colab": {
          "base_uri": "https://localhost:8080/",
          "height": 306
        },
        "outputId": "9bd7ffc1-980c-499b-bd86-b2a43c843bb2"
      },
      "cell_type": "code",
      "source": [
        "# label encoder\n",
        "from sklearn import preprocessing\n",
        "from sklearn.preprocessing import LabelBinarizer\n",
        "\n",
        "def onehot_encdr_park(df):\n",
        "    le = preprocessing.LabelEncoder()\n",
        "    le.fit(df['park'])\n",
        "    le.transform(['阿寒摩周国立公園', '十和田八幡平国立公園', '日光国立公園', '伊勢志摩国立公園','大山隠岐国立公園','阿蘇くじゅう国立公園', '霧島錦江湾国立公園', '慶良間諸島国立公園']) \n",
        "    \n",
        "    # onehot vector for park column\n",
        "    encoder = LabelBinarizer()\n",
        "    park_onehot = encoder.fit_transform(df['park'])\n",
        "    df_park = pd.DataFrame(park_onehot,columns=le.classes_)\n",
        "    df = pd.concat([df,df_park],axis=1)\n",
        "    return df\n",
        "\n",
        "df_train = onehot_encdr_park(df_train)\n",
        "df_test = onehot_encdr_park(df_test)\n",
        "df_train.head()"
      ],
      "execution_count": 31,
      "outputs": [
        {
          "output_type": "execute_result",
          "data": {
            "text/html": [
              "<div>\n",
              "<style scoped>\n",
              "    .dataframe tbody tr th:only-of-type {\n",
              "        vertical-align: middle;\n",
              "    }\n",
              "\n",
              "    .dataframe tbody tr th {\n",
              "        vertical-align: top;\n",
              "    }\n",
              "\n",
              "    .dataframe thead th {\n",
              "        text-align: right;\n",
              "    }\n",
              "</style>\n",
              "<table border=\"1\" class=\"dataframe\">\n",
              "  <thead>\n",
              "    <tr style=\"text-align: right;\">\n",
              "      <th></th>\n",
              "      <th>datetime</th>\n",
              "      <th>park</th>\n",
              "      <th>visitors</th>\n",
              "      <th>year</th>\n",
              "      <th>month</th>\n",
              "      <th>day</th>\n",
              "      <th>dayofweek</th>\n",
              "      <th>伊勢志摩国立公園</th>\n",
              "      <th>十和田八幡平国立公園</th>\n",
              "      <th>大山隠岐国立公園</th>\n",
              "      <th>慶良間諸島国立公園</th>\n",
              "      <th>日光国立公園</th>\n",
              "      <th>阿寒摩周国立公園</th>\n",
              "      <th>阿蘇くじゅう国立公園</th>\n",
              "      <th>霧島錦江湾国立公園</th>\n",
              "    </tr>\n",
              "  </thead>\n",
              "  <tbody>\n",
              "    <tr>\n",
              "      <th>0</th>\n",
              "      <td>2015-01-01</td>\n",
              "      <td>阿寒摩周国立公園</td>\n",
              "      <td>11028</td>\n",
              "      <td>2015</td>\n",
              "      <td>1</td>\n",
              "      <td>1</td>\n",
              "      <td>3</td>\n",
              "      <td>0</td>\n",
              "      <td>0</td>\n",
              "      <td>0</td>\n",
              "      <td>0</td>\n",
              "      <td>0</td>\n",
              "      <td>1</td>\n",
              "      <td>0</td>\n",
              "      <td>0</td>\n",
              "    </tr>\n",
              "    <tr>\n",
              "      <th>1</th>\n",
              "      <td>2015-01-01</td>\n",
              "      <td>十和田八幡平国立公園</td>\n",
              "      <td>34757</td>\n",
              "      <td>2015</td>\n",
              "      <td>1</td>\n",
              "      <td>1</td>\n",
              "      <td>3</td>\n",
              "      <td>0</td>\n",
              "      <td>1</td>\n",
              "      <td>0</td>\n",
              "      <td>0</td>\n",
              "      <td>0</td>\n",
              "      <td>0</td>\n",
              "      <td>0</td>\n",
              "      <td>0</td>\n",
              "    </tr>\n",
              "    <tr>\n",
              "      <th>2</th>\n",
              "      <td>2015-01-01</td>\n",
              "      <td>日光国立公園</td>\n",
              "      <td>29714</td>\n",
              "      <td>2015</td>\n",
              "      <td>1</td>\n",
              "      <td>1</td>\n",
              "      <td>3</td>\n",
              "      <td>0</td>\n",
              "      <td>0</td>\n",
              "      <td>0</td>\n",
              "      <td>0</td>\n",
              "      <td>1</td>\n",
              "      <td>0</td>\n",
              "      <td>0</td>\n",
              "      <td>0</td>\n",
              "    </tr>\n",
              "    <tr>\n",
              "      <th>3</th>\n",
              "      <td>2015-01-01</td>\n",
              "      <td>伊勢志摩国立公園</td>\n",
              "      <td>42652</td>\n",
              "      <td>2015</td>\n",
              "      <td>1</td>\n",
              "      <td>1</td>\n",
              "      <td>3</td>\n",
              "      <td>1</td>\n",
              "      <td>0</td>\n",
              "      <td>0</td>\n",
              "      <td>0</td>\n",
              "      <td>0</td>\n",
              "      <td>0</td>\n",
              "      <td>0</td>\n",
              "      <td>0</td>\n",
              "    </tr>\n",
              "    <tr>\n",
              "      <th>4</th>\n",
              "      <td>2015-01-01</td>\n",
              "      <td>大山隠岐国立公園</td>\n",
              "      <td>3637</td>\n",
              "      <td>2015</td>\n",
              "      <td>1</td>\n",
              "      <td>1</td>\n",
              "      <td>3</td>\n",
              "      <td>0</td>\n",
              "      <td>0</td>\n",
              "      <td>1</td>\n",
              "      <td>0</td>\n",
              "      <td>0</td>\n",
              "      <td>0</td>\n",
              "      <td>0</td>\n",
              "      <td>0</td>\n",
              "    </tr>\n",
              "  </tbody>\n",
              "</table>\n",
              "</div>"
            ],
            "text/plain": [
              "    datetime        park  visitors  year  month  day  dayofweek  伊勢志摩国立公園  \\\n",
              "0 2015-01-01    阿寒摩周国立公園     11028  2015      1    1          3         0   \n",
              "1 2015-01-01  十和田八幡平国立公園     34757  2015      1    1          3         0   \n",
              "2 2015-01-01      日光国立公園     29714  2015      1    1          3         0   \n",
              "3 2015-01-01    伊勢志摩国立公園     42652  2015      1    1          3         1   \n",
              "4 2015-01-01    大山隠岐国立公園      3637  2015      1    1          3         0   \n",
              "\n",
              "   十和田八幡平国立公園  大山隠岐国立公園  慶良間諸島国立公園  日光国立公園  阿寒摩周国立公園  阿蘇くじゅう国立公園  霧島錦江湾国立公園  \n",
              "0           0         0          0       0         1           0          0  \n",
              "1           1         0          0       0         0           0          0  \n",
              "2           0         0          0       1         0           0          0  \n",
              "3           0         0          0       0         0           0          0  \n",
              "4           0         1          0       0         0           0          0  "
            ]
          },
          "metadata": {
            "tags": []
          },
          "execution_count": 31
        }
      ]
    },
    {
      "metadata": {
        "id": "9JV6TG2xr1RD",
        "colab_type": "code",
        "colab": {
          "base_uri": "https://localhost:8080/",
          "height": 335
        },
        "outputId": "025e7570-2faf-4bcf-df24-159a00af7e04"
      },
      "cell_type": "code",
      "source": [
        "def onehot_encdr_dayofweek(df):\n",
        "    # onehot vector for park column\n",
        "    encoder = LabelBinarizer()\n",
        "    park_onehot = encoder.fit_transform(df['dayofweek'])\n",
        "    df_park = pd.DataFrame(park_onehot,columns=['Mon','Tue','Wed','Thu','Fri','Sat','Sun'])\n",
        "    df = pd.concat([df,df_park],axis=1)\n",
        "    return df\n",
        "  \n",
        "df_train = onehot_encdr_dayofweek(df_train)\n",
        "df_test = onehot_encdr_dayofweek(df_test)\n",
        "df_train.head()"
      ],
      "execution_count": 32,
      "outputs": [
        {
          "output_type": "execute_result",
          "data": {
            "text/html": [
              "<div>\n",
              "<style scoped>\n",
              "    .dataframe tbody tr th:only-of-type {\n",
              "        vertical-align: middle;\n",
              "    }\n",
              "\n",
              "    .dataframe tbody tr th {\n",
              "        vertical-align: top;\n",
              "    }\n",
              "\n",
              "    .dataframe thead th {\n",
              "        text-align: right;\n",
              "    }\n",
              "</style>\n",
              "<table border=\"1\" class=\"dataframe\">\n",
              "  <thead>\n",
              "    <tr style=\"text-align: right;\">\n",
              "      <th></th>\n",
              "      <th>datetime</th>\n",
              "      <th>park</th>\n",
              "      <th>visitors</th>\n",
              "      <th>year</th>\n",
              "      <th>month</th>\n",
              "      <th>day</th>\n",
              "      <th>dayofweek</th>\n",
              "      <th>伊勢志摩国立公園</th>\n",
              "      <th>十和田八幡平国立公園</th>\n",
              "      <th>大山隠岐国立公園</th>\n",
              "      <th>...</th>\n",
              "      <th>阿寒摩周国立公園</th>\n",
              "      <th>阿蘇くじゅう国立公園</th>\n",
              "      <th>霧島錦江湾国立公園</th>\n",
              "      <th>Mon</th>\n",
              "      <th>Tue</th>\n",
              "      <th>Wed</th>\n",
              "      <th>Thu</th>\n",
              "      <th>Fri</th>\n",
              "      <th>Sat</th>\n",
              "      <th>Sun</th>\n",
              "    </tr>\n",
              "  </thead>\n",
              "  <tbody>\n",
              "    <tr>\n",
              "      <th>0</th>\n",
              "      <td>2015-01-01</td>\n",
              "      <td>阿寒摩周国立公園</td>\n",
              "      <td>11028</td>\n",
              "      <td>2015</td>\n",
              "      <td>1</td>\n",
              "      <td>1</td>\n",
              "      <td>3</td>\n",
              "      <td>0</td>\n",
              "      <td>0</td>\n",
              "      <td>0</td>\n",
              "      <td>...</td>\n",
              "      <td>1</td>\n",
              "      <td>0</td>\n",
              "      <td>0</td>\n",
              "      <td>0</td>\n",
              "      <td>0</td>\n",
              "      <td>0</td>\n",
              "      <td>1</td>\n",
              "      <td>0</td>\n",
              "      <td>0</td>\n",
              "      <td>0</td>\n",
              "    </tr>\n",
              "    <tr>\n",
              "      <th>1</th>\n",
              "      <td>2015-01-01</td>\n",
              "      <td>十和田八幡平国立公園</td>\n",
              "      <td>34757</td>\n",
              "      <td>2015</td>\n",
              "      <td>1</td>\n",
              "      <td>1</td>\n",
              "      <td>3</td>\n",
              "      <td>0</td>\n",
              "      <td>1</td>\n",
              "      <td>0</td>\n",
              "      <td>...</td>\n",
              "      <td>0</td>\n",
              "      <td>0</td>\n",
              "      <td>0</td>\n",
              "      <td>0</td>\n",
              "      <td>0</td>\n",
              "      <td>0</td>\n",
              "      <td>1</td>\n",
              "      <td>0</td>\n",
              "      <td>0</td>\n",
              "      <td>0</td>\n",
              "    </tr>\n",
              "    <tr>\n",
              "      <th>2</th>\n",
              "      <td>2015-01-01</td>\n",
              "      <td>日光国立公園</td>\n",
              "      <td>29714</td>\n",
              "      <td>2015</td>\n",
              "      <td>1</td>\n",
              "      <td>1</td>\n",
              "      <td>3</td>\n",
              "      <td>0</td>\n",
              "      <td>0</td>\n",
              "      <td>0</td>\n",
              "      <td>...</td>\n",
              "      <td>0</td>\n",
              "      <td>0</td>\n",
              "      <td>0</td>\n",
              "      <td>0</td>\n",
              "      <td>0</td>\n",
              "      <td>0</td>\n",
              "      <td>1</td>\n",
              "      <td>0</td>\n",
              "      <td>0</td>\n",
              "      <td>0</td>\n",
              "    </tr>\n",
              "    <tr>\n",
              "      <th>3</th>\n",
              "      <td>2015-01-01</td>\n",
              "      <td>伊勢志摩国立公園</td>\n",
              "      <td>42652</td>\n",
              "      <td>2015</td>\n",
              "      <td>1</td>\n",
              "      <td>1</td>\n",
              "      <td>3</td>\n",
              "      <td>1</td>\n",
              "      <td>0</td>\n",
              "      <td>0</td>\n",
              "      <td>...</td>\n",
              "      <td>0</td>\n",
              "      <td>0</td>\n",
              "      <td>0</td>\n",
              "      <td>0</td>\n",
              "      <td>0</td>\n",
              "      <td>0</td>\n",
              "      <td>1</td>\n",
              "      <td>0</td>\n",
              "      <td>0</td>\n",
              "      <td>0</td>\n",
              "    </tr>\n",
              "    <tr>\n",
              "      <th>4</th>\n",
              "      <td>2015-01-01</td>\n",
              "      <td>大山隠岐国立公園</td>\n",
              "      <td>3637</td>\n",
              "      <td>2015</td>\n",
              "      <td>1</td>\n",
              "      <td>1</td>\n",
              "      <td>3</td>\n",
              "      <td>0</td>\n",
              "      <td>0</td>\n",
              "      <td>1</td>\n",
              "      <td>...</td>\n",
              "      <td>0</td>\n",
              "      <td>0</td>\n",
              "      <td>0</td>\n",
              "      <td>0</td>\n",
              "      <td>0</td>\n",
              "      <td>0</td>\n",
              "      <td>1</td>\n",
              "      <td>0</td>\n",
              "      <td>0</td>\n",
              "      <td>0</td>\n",
              "    </tr>\n",
              "  </tbody>\n",
              "</table>\n",
              "<p>5 rows × 22 columns</p>\n",
              "</div>"
            ],
            "text/plain": [
              "    datetime        park  visitors  year  month  day  dayofweek  伊勢志摩国立公園  \\\n",
              "0 2015-01-01    阿寒摩周国立公園     11028  2015      1    1          3         0   \n",
              "1 2015-01-01  十和田八幡平国立公園     34757  2015      1    1          3         0   \n",
              "2 2015-01-01      日光国立公園     29714  2015      1    1          3         0   \n",
              "3 2015-01-01    伊勢志摩国立公園     42652  2015      1    1          3         1   \n",
              "4 2015-01-01    大山隠岐国立公園      3637  2015      1    1          3         0   \n",
              "\n",
              "   十和田八幡平国立公園  大山隠岐国立公園 ...   阿寒摩周国立公園  阿蘇くじゅう国立公園  霧島錦江湾国立公園  Mon  Tue  Wed  \\\n",
              "0           0         0 ...          1           0          0    0    0    0   \n",
              "1           1         0 ...          0           0          0    0    0    0   \n",
              "2           0         0 ...          0           0          0    0    0    0   \n",
              "3           0         0 ...          0           0          0    0    0    0   \n",
              "4           0         1 ...          0           0          0    0    0    0   \n",
              "\n",
              "   Thu  Fri  Sat  Sun  \n",
              "0    1    0    0    0  \n",
              "1    1    0    0    0  \n",
              "2    1    0    0    0  \n",
              "3    1    0    0    0  \n",
              "4    1    0    0    0  \n",
              "\n",
              "[5 rows x 22 columns]"
            ]
          },
          "metadata": {
            "tags": []
          },
          "execution_count": 32
        }
      ]
    },
    {
      "metadata": {
        "id": "7QIUUEmOr1RL",
        "colab_type": "text"
      },
      "cell_type": "markdown",
      "source": [
        "# データから特徴量作成"
      ]
    },
    {
      "metadata": {
        "id": "TnsXnD3vtWMo",
        "colab_type": "text"
      },
      "cell_type": "markdown",
      "source": [
        "## 祝日データ"
      ]
    },
    {
      "metadata": {
        "id": "orhnYnEfr1RP",
        "colab_type": "code",
        "colab": {
          "base_uri": "https://localhost:8080/",
          "height": 204
        },
        "outputId": "4b11730a-9d05-42ee-a4ac-b39490059d0b"
      },
      "cell_type": "code",
      "source": [
        "# holiday data exclude Saturday, Sunday\n",
        "df_holiday_exc_wkend['datetime'] = pd.to_datetime(df_holiday_exc_wkend['datetime'])\n",
        "df_holiday_exc_wkend['dayofweek'] = df_holiday_exc_wkend['datetime'].dt.dayofweek\n",
        "\n",
        "# dayofweekが5 or 6(土曜or日曜)の場合、holidayカラムの値を0にする\n",
        "df_holiday_exc_wkend.loc[(df_holiday_exc_wkend['dayofweek'] == 5) | (df_holiday_exc_wkend['dayofweek'] == 6), 'holiday'] = 0\n",
        "df_holiday_exc_wkend = df_holiday_exc_wkend[['datetime','holiday']]\n",
        "df_holiday_exc_wkend = df_holiday_exc_wkend.rename(columns={'holiday': 'pub_holiday'})\n",
        "df_holiday_exc_wkend.head()"
      ],
      "execution_count": 33,
      "outputs": [
        {
          "output_type": "execute_result",
          "data": {
            "text/html": [
              "<div>\n",
              "<style scoped>\n",
              "    .dataframe tbody tr th:only-of-type {\n",
              "        vertical-align: middle;\n",
              "    }\n",
              "\n",
              "    .dataframe tbody tr th {\n",
              "        vertical-align: top;\n",
              "    }\n",
              "\n",
              "    .dataframe thead th {\n",
              "        text-align: right;\n",
              "    }\n",
              "</style>\n",
              "<table border=\"1\" class=\"dataframe\">\n",
              "  <thead>\n",
              "    <tr style=\"text-align: right;\">\n",
              "      <th></th>\n",
              "      <th>datetime</th>\n",
              "      <th>pub_holiday</th>\n",
              "    </tr>\n",
              "  </thead>\n",
              "  <tbody>\n",
              "    <tr>\n",
              "      <th>0</th>\n",
              "      <td>2015-01-01</td>\n",
              "      <td>1</td>\n",
              "    </tr>\n",
              "    <tr>\n",
              "      <th>1</th>\n",
              "      <td>2015-01-02</td>\n",
              "      <td>0</td>\n",
              "    </tr>\n",
              "    <tr>\n",
              "      <th>2</th>\n",
              "      <td>2015-01-03</td>\n",
              "      <td>0</td>\n",
              "    </tr>\n",
              "    <tr>\n",
              "      <th>3</th>\n",
              "      <td>2015-01-04</td>\n",
              "      <td>0</td>\n",
              "    </tr>\n",
              "    <tr>\n",
              "      <th>4</th>\n",
              "      <td>2015-01-05</td>\n",
              "      <td>0</td>\n",
              "    </tr>\n",
              "  </tbody>\n",
              "</table>\n",
              "</div>"
            ],
            "text/plain": [
              "    datetime  pub_holiday\n",
              "0 2015-01-01            1\n",
              "1 2015-01-02            0\n",
              "2 2015-01-03            0\n",
              "3 2015-01-04            0\n",
              "4 2015-01-05            0"
            ]
          },
          "metadata": {
            "tags": []
          },
          "execution_count": 33
        }
      ]
    },
    {
      "metadata": {
        "id": "46TpZ8VRtbr6",
        "colab_type": "text"
      },
      "cell_type": "markdown",
      "source": [
        "## 積雪量データ"
      ]
    },
    {
      "metadata": {
        "scrolled": true,
        "id": "XxgXM2Y4r1RT",
        "colab_type": "code",
        "colab": {
          "base_uri": "https://localhost:8080/",
          "height": 204
        },
        "outputId": "d61a95df-73e8-4fb7-d836-778559ed2702"
      },
      "cell_type": "code",
      "source": [
        "# 防災科学技術研究所 ⼤⼭鏡ヶ成積雪気象観測施設における積雪気象観測データ\n",
        "# 日ごとの積雪量の平均データを作成\n",
        "df_nied_oyama['日時'] = pd.to_datetime(df_nied_oyama['日時'])\n",
        "df_nied_oyama['日時'] = df_nied_oyama['日時'].dt.strftime('%Y-%m-%d')\n",
        "df_nied_oyama_mean = df_nied_oyama.groupby('日時',as_index=False).mean()[['日時','積雪深(cm)', '気温(℃)']]\n",
        "df_oyama = df_nied_oyama_mean.assign(大山隠岐国立公園=1)\n",
        "df_oyama = df_oyama.rename(columns={'日時': 'datetime'})\n",
        "df_oyama.head()"
      ],
      "execution_count": 34,
      "outputs": [
        {
          "output_type": "execute_result",
          "data": {
            "text/html": [
              "<div>\n",
              "<style scoped>\n",
              "    .dataframe tbody tr th:only-of-type {\n",
              "        vertical-align: middle;\n",
              "    }\n",
              "\n",
              "    .dataframe tbody tr th {\n",
              "        vertical-align: top;\n",
              "    }\n",
              "\n",
              "    .dataframe thead th {\n",
              "        text-align: right;\n",
              "    }\n",
              "</style>\n",
              "<table border=\"1\" class=\"dataframe\">\n",
              "  <thead>\n",
              "    <tr style=\"text-align: right;\">\n",
              "      <th></th>\n",
              "      <th>datetime</th>\n",
              "      <th>積雪深(cm)</th>\n",
              "      <th>気温(℃)</th>\n",
              "      <th>大山隠岐国立公園</th>\n",
              "    </tr>\n",
              "  </thead>\n",
              "  <tbody>\n",
              "    <tr>\n",
              "      <th>0</th>\n",
              "      <td>2015-01-01</td>\n",
              "      <td>116.029167</td>\n",
              "      <td>-6.895833</td>\n",
              "      <td>1</td>\n",
              "    </tr>\n",
              "    <tr>\n",
              "      <th>1</th>\n",
              "      <td>2015-01-02</td>\n",
              "      <td>137.983333</td>\n",
              "      <td>-6.362500</td>\n",
              "      <td>1</td>\n",
              "    </tr>\n",
              "    <tr>\n",
              "      <th>2</th>\n",
              "      <td>2015-01-03</td>\n",
              "      <td>150.050000</td>\n",
              "      <td>-3.400000</td>\n",
              "      <td>1</td>\n",
              "    </tr>\n",
              "    <tr>\n",
              "      <th>3</th>\n",
              "      <td>2015-01-04</td>\n",
              "      <td>137.358333</td>\n",
              "      <td>0.166667</td>\n",
              "      <td>1</td>\n",
              "    </tr>\n",
              "    <tr>\n",
              "      <th>4</th>\n",
              "      <td>2015-01-05</td>\n",
              "      <td>126.766667</td>\n",
              "      <td>1.812500</td>\n",
              "      <td>1</td>\n",
              "    </tr>\n",
              "  </tbody>\n",
              "</table>\n",
              "</div>"
            ],
            "text/plain": [
              "     datetime     積雪深(cm)     気温(℃)  大山隠岐国立公園\n",
              "0  2015-01-01  116.029167 -6.895833         1\n",
              "1  2015-01-02  137.983333 -6.362500         1\n",
              "2  2015-01-03  150.050000 -3.400000         1\n",
              "3  2015-01-04  137.358333  0.166667         1\n",
              "4  2015-01-05  126.766667  1.812500         1"
            ]
          },
          "metadata": {
            "tags": []
          },
          "execution_count": 34
        }
      ]
    },
    {
      "metadata": {
        "id": "JoFhFSpDtfNl",
        "colab_type": "text"
      },
      "cell_type": "markdown",
      "source": [
        "## SNS投稿カウント数 日光"
      ]
    },
    {
      "metadata": {
        "id": "kI9UIoCAr9D7",
        "colab_type": "code",
        "colab": {
          "base_uri": "https://localhost:8080/",
          "height": 204
        },
        "outputId": "ba3bc8ec-5cce-495c-ff88-6351960aeba6"
      },
      "cell_type": "code",
      "source": [
        "# 前日分のカウントに変換\n",
        "df_nightley['Japan_count'] = df_nightley['Japan_count'].shift(-1)\n",
        "#df_nightley['Foreign_count'] = df_nightley['Foreign_count'].shift(-1)\n",
        "#df_nightley['Jp_Frgn_count'] = df_nightley['Japan_count']  + df_nightley['Foreign_count'] \n",
        "\n",
        "# get avarage value\n",
        "avg_japan = df_nightley['Japan_count'].mean()\n",
        "#avg_foreign = df_nightley['Foreign_count'].mean()\n",
        "\n",
        "\n",
        "df_nightley = df_nightley.rename(columns={'Japan_count': 'Jpn_cnt_ystday', 'Foreign_count':  'Freign_count_ystday'})\n",
        "df_nightley = df_nightley.assign(日光国立公園\t=1)\n",
        "\n",
        "# Foreign_count_ystdayはターゲットと相関が低いので削除\n",
        "df_nightley = df_nightley.drop(\"Freign_count_ystday\", axis=1)\n",
        "df_nightley.head()"
      ],
      "execution_count": 35,
      "outputs": [
        {
          "output_type": "execute_result",
          "data": {
            "text/html": [
              "<div>\n",
              "<style scoped>\n",
              "    .dataframe tbody tr th:only-of-type {\n",
              "        vertical-align: middle;\n",
              "    }\n",
              "\n",
              "    .dataframe tbody tr th {\n",
              "        vertical-align: top;\n",
              "    }\n",
              "\n",
              "    .dataframe thead th {\n",
              "        text-align: right;\n",
              "    }\n",
              "</style>\n",
              "<table border=\"1\" class=\"dataframe\">\n",
              "  <thead>\n",
              "    <tr style=\"text-align: right;\">\n",
              "      <th></th>\n",
              "      <th>datetime</th>\n",
              "      <th>Jpn_cnt_ystday</th>\n",
              "      <th>日光国立公園</th>\n",
              "    </tr>\n",
              "  </thead>\n",
              "  <tbody>\n",
              "    <tr>\n",
              "      <th>0</th>\n",
              "      <td>2016-01-01</td>\n",
              "      <td>66.0</td>\n",
              "      <td>1</td>\n",
              "    </tr>\n",
              "    <tr>\n",
              "      <th>1</th>\n",
              "      <td>2016-01-02</td>\n",
              "      <td>75.0</td>\n",
              "      <td>1</td>\n",
              "    </tr>\n",
              "    <tr>\n",
              "      <th>2</th>\n",
              "      <td>2016-01-03</td>\n",
              "      <td>50.0</td>\n",
              "      <td>1</td>\n",
              "    </tr>\n",
              "    <tr>\n",
              "      <th>3</th>\n",
              "      <td>2016-01-04</td>\n",
              "      <td>25.0</td>\n",
              "      <td>1</td>\n",
              "    </tr>\n",
              "    <tr>\n",
              "      <th>4</th>\n",
              "      <td>2016-01-05</td>\n",
              "      <td>29.0</td>\n",
              "      <td>1</td>\n",
              "    </tr>\n",
              "  </tbody>\n",
              "</table>\n",
              "</div>"
            ],
            "text/plain": [
              "     datetime  Jpn_cnt_ystday  日光国立公園\n",
              "0  2016-01-01            66.0       1\n",
              "1  2016-01-02            75.0       1\n",
              "2  2016-01-03            50.0       1\n",
              "3  2016-01-04            25.0       1\n",
              "4  2016-01-05            29.0       1"
            ]
          },
          "metadata": {
            "tags": []
          },
          "execution_count": 35
        }
      ]
    },
    {
      "metadata": {
        "id": "hrbuZCNuC8g1",
        "colab_type": "text"
      },
      "cell_type": "markdown",
      "source": [
        "## 観光客数との相関をみる\n",
        "- peasonr:相関係数\n",
        "- [相関係数とは](http://tomoshige-n.hatenablog.com/entry/2014/09/26/221108)"
      ]
    },
    {
      "metadata": {
        "id": "UAUQqCQcC0WN",
        "colab_type": "code",
        "colab": {
          "base_uri": "https://localhost:8080/",
          "height": 335
        },
        "outputId": "624b0476-b1bc-4f3c-fc7a-ce0078e5c22b"
      },
      "cell_type": "code",
      "source": [
        "df_nightley['datetime'] = pd.to_datetime(df_nightley['datetime'])\n",
        "df_nightley_peason= pd.merge(df_train,df_nightley,on=['日光国立公園','datetime'],how='left')\n",
        "df_nightley_peason = df_nightley_peason[df_nightley_peason['日光国立公園']==1]\n",
        "df_nightley_peason= df_nightley_peason[365:731]\n",
        "df_nightley_peason.head()"
      ],
      "execution_count": 36,
      "outputs": [
        {
          "output_type": "execute_result",
          "data": {
            "text/html": [
              "<div>\n",
              "<style scoped>\n",
              "    .dataframe tbody tr th:only-of-type {\n",
              "        vertical-align: middle;\n",
              "    }\n",
              "\n",
              "    .dataframe tbody tr th {\n",
              "        vertical-align: top;\n",
              "    }\n",
              "\n",
              "    .dataframe thead th {\n",
              "        text-align: right;\n",
              "    }\n",
              "</style>\n",
              "<table border=\"1\" class=\"dataframe\">\n",
              "  <thead>\n",
              "    <tr style=\"text-align: right;\">\n",
              "      <th></th>\n",
              "      <th>datetime</th>\n",
              "      <th>park</th>\n",
              "      <th>visitors</th>\n",
              "      <th>year</th>\n",
              "      <th>month</th>\n",
              "      <th>day</th>\n",
              "      <th>dayofweek</th>\n",
              "      <th>伊勢志摩国立公園</th>\n",
              "      <th>十和田八幡平国立公園</th>\n",
              "      <th>大山隠岐国立公園</th>\n",
              "      <th>...</th>\n",
              "      <th>阿蘇くじゅう国立公園</th>\n",
              "      <th>霧島錦江湾国立公園</th>\n",
              "      <th>Mon</th>\n",
              "      <th>Tue</th>\n",
              "      <th>Wed</th>\n",
              "      <th>Thu</th>\n",
              "      <th>Fri</th>\n",
              "      <th>Sat</th>\n",
              "      <th>Sun</th>\n",
              "      <th>Jpn_cnt_ystday</th>\n",
              "    </tr>\n",
              "  </thead>\n",
              "  <tbody>\n",
              "    <tr>\n",
              "      <th>2922</th>\n",
              "      <td>2016-01-01</td>\n",
              "      <td>日光国立公園</td>\n",
              "      <td>42032</td>\n",
              "      <td>2016</td>\n",
              "      <td>1</td>\n",
              "      <td>1</td>\n",
              "      <td>4</td>\n",
              "      <td>0</td>\n",
              "      <td>0</td>\n",
              "      <td>0</td>\n",
              "      <td>...</td>\n",
              "      <td>0</td>\n",
              "      <td>0</td>\n",
              "      <td>0</td>\n",
              "      <td>0</td>\n",
              "      <td>0</td>\n",
              "      <td>0</td>\n",
              "      <td>1</td>\n",
              "      <td>0</td>\n",
              "      <td>0</td>\n",
              "      <td>66.0</td>\n",
              "    </tr>\n",
              "    <tr>\n",
              "      <th>2930</th>\n",
              "      <td>2016-01-02</td>\n",
              "      <td>日光国立公園</td>\n",
              "      <td>39278</td>\n",
              "      <td>2016</td>\n",
              "      <td>1</td>\n",
              "      <td>2</td>\n",
              "      <td>5</td>\n",
              "      <td>0</td>\n",
              "      <td>0</td>\n",
              "      <td>0</td>\n",
              "      <td>...</td>\n",
              "      <td>0</td>\n",
              "      <td>0</td>\n",
              "      <td>0</td>\n",
              "      <td>0</td>\n",
              "      <td>0</td>\n",
              "      <td>0</td>\n",
              "      <td>0</td>\n",
              "      <td>1</td>\n",
              "      <td>0</td>\n",
              "      <td>75.0</td>\n",
              "    </tr>\n",
              "    <tr>\n",
              "      <th>2938</th>\n",
              "      <td>2016-01-03</td>\n",
              "      <td>日光国立公園</td>\n",
              "      <td>29210</td>\n",
              "      <td>2016</td>\n",
              "      <td>1</td>\n",
              "      <td>3</td>\n",
              "      <td>6</td>\n",
              "      <td>0</td>\n",
              "      <td>0</td>\n",
              "      <td>0</td>\n",
              "      <td>...</td>\n",
              "      <td>0</td>\n",
              "      <td>0</td>\n",
              "      <td>0</td>\n",
              "      <td>0</td>\n",
              "      <td>0</td>\n",
              "      <td>0</td>\n",
              "      <td>0</td>\n",
              "      <td>0</td>\n",
              "      <td>1</td>\n",
              "      <td>50.0</td>\n",
              "    </tr>\n",
              "    <tr>\n",
              "      <th>2946</th>\n",
              "      <td>2016-01-04</td>\n",
              "      <td>日光国立公園</td>\n",
              "      <td>19673</td>\n",
              "      <td>2016</td>\n",
              "      <td>1</td>\n",
              "      <td>4</td>\n",
              "      <td>0</td>\n",
              "      <td>0</td>\n",
              "      <td>0</td>\n",
              "      <td>0</td>\n",
              "      <td>...</td>\n",
              "      <td>0</td>\n",
              "      <td>0</td>\n",
              "      <td>1</td>\n",
              "      <td>0</td>\n",
              "      <td>0</td>\n",
              "      <td>0</td>\n",
              "      <td>0</td>\n",
              "      <td>0</td>\n",
              "      <td>0</td>\n",
              "      <td>25.0</td>\n",
              "    </tr>\n",
              "    <tr>\n",
              "      <th>2954</th>\n",
              "      <td>2016-01-05</td>\n",
              "      <td>日光国立公園</td>\n",
              "      <td>12727</td>\n",
              "      <td>2016</td>\n",
              "      <td>1</td>\n",
              "      <td>5</td>\n",
              "      <td>1</td>\n",
              "      <td>0</td>\n",
              "      <td>0</td>\n",
              "      <td>0</td>\n",
              "      <td>...</td>\n",
              "      <td>0</td>\n",
              "      <td>0</td>\n",
              "      <td>0</td>\n",
              "      <td>1</td>\n",
              "      <td>0</td>\n",
              "      <td>0</td>\n",
              "      <td>0</td>\n",
              "      <td>0</td>\n",
              "      <td>0</td>\n",
              "      <td>29.0</td>\n",
              "    </tr>\n",
              "  </tbody>\n",
              "</table>\n",
              "<p>5 rows × 23 columns</p>\n",
              "</div>"
            ],
            "text/plain": [
              "       datetime    park  visitors  year  month  day  dayofweek  伊勢志摩国立公園  \\\n",
              "2922 2016-01-01  日光国立公園     42032  2016      1    1          4         0   \n",
              "2930 2016-01-02  日光国立公園     39278  2016      1    2          5         0   \n",
              "2938 2016-01-03  日光国立公園     29210  2016      1    3          6         0   \n",
              "2946 2016-01-04  日光国立公園     19673  2016      1    4          0         0   \n",
              "2954 2016-01-05  日光国立公園     12727  2016      1    5          1         0   \n",
              "\n",
              "      十和田八幡平国立公園  大山隠岐国立公園       ...        阿蘇くじゅう国立公園  霧島錦江湾国立公園  Mon  Tue  \\\n",
              "2922           0         0       ...                 0          0    0    0   \n",
              "2930           0         0       ...                 0          0    0    0   \n",
              "2938           0         0       ...                 0          0    0    0   \n",
              "2946           0         0       ...                 0          0    1    0   \n",
              "2954           0         0       ...                 0          0    0    1   \n",
              "\n",
              "      Wed  Thu  Fri  Sat  Sun  Jpn_cnt_ystday  \n",
              "2922    0    0    1    0    0            66.0  \n",
              "2930    0    0    0    1    0            75.0  \n",
              "2938    0    0    0    0    1            50.0  \n",
              "2946    0    0    0    0    0            25.0  \n",
              "2954    0    0    0    0    0            29.0  \n",
              "\n",
              "[5 rows x 23 columns]"
            ]
          },
          "metadata": {
            "tags": []
          },
          "execution_count": 36
        }
      ]
    },
    {
      "metadata": {
        "id": "D92IuEsx3tq9",
        "colab_type": "code",
        "colab": {
          "base_uri": "https://localhost:8080/",
          "height": 454
        },
        "outputId": "4efd6225-b237-4de7-f317-32f8182ff385"
      },
      "cell_type": "code",
      "source": [
        "import  seaborn  as  sns\n",
        "sns.jointplot('Jpn_cnt_ystday', 'visitors', data=df_nightley_peason)\n",
        "#sns.jointplot('Foreign_count_ystday', 'visitors', data=df_nightley_peason)\n",
        "#sns.jointplot('Jp_Frgn_count', 'visitors', data=df_nightley_peason)"
      ],
      "execution_count": 37,
      "outputs": [
        {
          "output_type": "execute_result",
          "data": {
            "text/plain": [
              "<seaborn.axisgrid.JointGrid at 0x7fe515fbccc0>"
            ]
          },
          "metadata": {
            "tags": []
          },
          "execution_count": 37
        },
        {
          "output_type": "display_data",
          "data": {
            "image/png": "[encoded data removed]",
            "text/plain": [
              "<matplotlib.figure.Figure at 0x7fe515fbc710>"
            ]
          },
          "metadata": {
            "tags": []
          }
        }
      ]
    },
    {
      "metadata": {
        "id": "zQ7Cpi4vtrWw",
        "colab_type": "text"
      },
      "cell_type": "markdown",
      "source": [
        "## sin cos curve"
      ]
    },
    {
      "metadata": {
        "id": "8Of_HMRgr1RZ",
        "colab_type": "code",
        "colab": {}
      },
      "cell_type": "code",
      "source": [
        "# sin cos curve\n",
        "N = 365 # データ数\n",
        "N_ = 366\n",
        "n = np.arange(365)\n",
        "n_ = np.arange(366)\n",
        "\n",
        "#  Not leap year\n",
        "sin_cur_not_leap= np.sin(2*np.pi*n/N)\n",
        "cos_cur_not_leap= np.cos(2*np.pi*n/N)\n",
        "tan_cur_not_leap= np.tan(2*np.pi*n/N)\n",
        "\n",
        "\n",
        "#sin_cur_not_leap_2 = sin_cur_not_leap * sin_cur_not_leap\n",
        "#cos_cur_not_leap_2 = cos_cur_not_leap * cos_cur_not_leap\n",
        "#tan_cur_not_leap_2 = tan_cur_not_leap * tan_cur_not_leap\n",
        "\n",
        "\n",
        "#  leap year\n",
        "sin_cur_leap= np.sin(2*np.pi*n_/N_)\n",
        "cos_cur_leap= np.cos(2*np.pi*n_/N_)\n",
        "tan_cur_leap= np.tan(2*np.pi*n_/N_)\n",
        "\n",
        "#sin_cur_leap_2 = sin_cur_leap * sin_cur_leap\n",
        "#cos_cur_leap_2 = cos_cur_leap * cos_cur_leap\n",
        "#tan_cur_leap_2 = tan_cur_leap * tan_cur_leap\n",
        "\n",
        "# concat for 2015, 2016\n",
        "sin_cur = np.concatenate((sin_cur_not_leap, sin_cur_leap), axis=0)\n",
        "cos_cur = np.concatenate((cos_cur_not_leap, cos_cur_leap), axis=0)\n",
        "tan_cur = np.concatenate((tan_cur_not_leap, tan_cur_leap), axis=0)\n",
        "#sin2_cur = np.concatenate((sin_cur_not_leap_2, sin_cur_leap_2), axis=0)\n",
        "#cos2_cur = np.concatenate((cos_cur_not_leap_2, cos_cur_leap_2), axis=0)\n",
        "#tan2_cur = np.concatenate((tan_cur_not_leap_2, tan_cur_leap_2), axis=0)\n",
        "\n",
        "# to dataframe\n",
        "df_sin_cur_train = pd.DataFrame(data=sin_cur,dtype='float')\n",
        "df_cos_cur_train = pd.DataFrame(data=cos_cur,dtype='float')\n",
        "df_tan_cur_train = pd.DataFrame(data=tan_cur,dtype='float')\n",
        "#df_sin2_cur_train = pd.DataFrame(data=sin2_cur,dtype='float')\n",
        "#df_cos2_cur_train = pd.DataFrame(data=cos2_cur,dtype='float')\n",
        "#df_tan2_cur_train = pd.DataFrame(data=tan2_cur,dtype='float')\n",
        "\n",
        "# concat for 2017\n",
        "df_sin_cur_test = pd.DataFrame(data=sin_cur_not_leap,dtype='float')\n",
        "df_cos_cur_test = pd.DataFrame(data=cos_cur_not_leap,dtype='float')\n",
        "df_tan_cur_test = pd.DataFrame(data=tan_cur_not_leap,dtype='float')\n",
        "\n",
        "#df_sin2_cur_test = pd.DataFrame(data=sin_cur_not_leap_2,dtype='float')\n",
        "#df_cos2_cur_test = pd.DataFrame(data=cos_cur_not_leap_2,dtype='float')\n",
        "#df_tan2_cur_test = pd.DataFrame(data=tan_cur_not_leap_2,dtype='float')"
      ],
      "execution_count": 0,
      "outputs": []
    },
    {
      "metadata": {
        "id": "Yf5X4Y7ZtwI7",
        "colab_type": "text"
      },
      "cell_type": "markdown",
      "source": [
        "## Target Encoding\n"
      ]
    },
    {
      "metadata": {
        "id": "7fWopxLzx6wL",
        "colab_type": "code",
        "colab": {
          "base_uri": "https://localhost:8080/",
          "height": 297
        },
        "outputId": "65aa0eab-4a60-492c-e6b0-c5e7eb4111a8"
      },
      "cell_type": "code",
      "source": [
        "# taget encoding\n",
        "#　df_train_mean = df_train.groupby('datetime',as_index=False).mean()\n",
        "df_visitors_mean = df_train.groupby('park',as_index=False).mean()[['park','visitors']]\n",
        "df_visitors_mean"
      ],
      "execution_count": 39,
      "outputs": [
        {
          "output_type": "execute_result",
          "data": {
            "text/html": [
              "<div>\n",
              "<style scoped>\n",
              "    .dataframe tbody tr th:only-of-type {\n",
              "        vertical-align: middle;\n",
              "    }\n",
              "\n",
              "    .dataframe tbody tr th {\n",
              "        vertical-align: top;\n",
              "    }\n",
              "\n",
              "    .dataframe thead th {\n",
              "        text-align: right;\n",
              "    }\n",
              "</style>\n",
              "<table border=\"1\" class=\"dataframe\">\n",
              "  <thead>\n",
              "    <tr style=\"text-align: right;\">\n",
              "      <th></th>\n",
              "      <th>park</th>\n",
              "      <th>visitors</th>\n",
              "    </tr>\n",
              "  </thead>\n",
              "  <tbody>\n",
              "    <tr>\n",
              "      <th>0</th>\n",
              "      <td>伊勢志摩国立公園</td>\n",
              "      <td>16314.704514</td>\n",
              "    </tr>\n",
              "    <tr>\n",
              "      <th>1</th>\n",
              "      <td>十和田八幡平国立公園</td>\n",
              "      <td>8890.787962</td>\n",
              "    </tr>\n",
              "    <tr>\n",
              "      <th>2</th>\n",
              "      <td>大山隠岐国立公園</td>\n",
              "      <td>716.424077</td>\n",
              "    </tr>\n",
              "    <tr>\n",
              "      <th>3</th>\n",
              "      <td>慶良間諸島国立公園</td>\n",
              "      <td>137.994528</td>\n",
              "    </tr>\n",
              "    <tr>\n",
              "      <th>4</th>\n",
              "      <td>日光国立公園</td>\n",
              "      <td>11324.525308</td>\n",
              "    </tr>\n",
              "    <tr>\n",
              "      <th>5</th>\n",
              "      <td>阿寒摩周国立公園</td>\n",
              "      <td>4422.611491</td>\n",
              "    </tr>\n",
              "    <tr>\n",
              "      <th>6</th>\n",
              "      <td>阿蘇くじゅう国立公園</td>\n",
              "      <td>270.445964</td>\n",
              "    </tr>\n",
              "    <tr>\n",
              "      <th>7</th>\n",
              "      <td>霧島錦江湾国立公園</td>\n",
              "      <td>15416.395349</td>\n",
              "    </tr>\n",
              "  </tbody>\n",
              "</table>\n",
              "</div>"
            ],
            "text/plain": [
              "         park      visitors\n",
              "0    伊勢志摩国立公園  16314.704514\n",
              "1  十和田八幡平国立公園   8890.787962\n",
              "2    大山隠岐国立公園    716.424077\n",
              "3   慶良間諸島国立公園    137.994528\n",
              "4      日光国立公園  11324.525308\n",
              "5    阿寒摩周国立公園   4422.611491\n",
              "6  阿蘇くじゅう国立公園    270.445964\n",
              "7   霧島錦江湾国立公園  15416.395349"
            ]
          },
          "metadata": {
            "tags": []
          },
          "execution_count": 39
        }
      ]
    },
    {
      "metadata": {
        "id": "TysAn_DRGHeB",
        "colab_type": "text"
      },
      "cell_type": "markdown",
      "source": [
        "## 天気データ"
      ]
    },
    {
      "metadata": {
        "id": "jIpkBoW3r1Rc",
        "colab_type": "code",
        "colab": {
          "base_uri": "https://localhost:8080/",
          "height": 204
        },
        "outputId": "3dfae2ab-7332-4d7a-b1eb-61220bb6f183"
      },
      "cell_type": "code",
      "source": [
        "df_weather = pd.read_csv('/content/gdrive/My Drive/weather.tsv', sep='\\t')\n",
        "df_weather['日時'] = pd.to_datetime(df_weather['年月日'])\n",
        "df_weather.loc[df_weather['地点']=='鳥羽' ,'地点'] = '伊勢志摩国立公園'\n",
        "df_weather.loc[df_weather['地点']=='十和田' ,'地点'] = '十和田八幡平国立公園'\n",
        "df_weather.loc[df_weather['地点']=='大山' ,'地点'] = '大山隠岐国立公園'\n",
        "df_weather.loc[df_weather['地点']=='渡嘉敷' ,'地点'] = '慶良間諸島国立公園'\n",
        "df_weather.loc[df_weather['地点']=='日光' ,'地点'] = '日光国立公園'\n",
        "df_weather.loc[df_weather['地点']=='釧路' ,'地点'] = '阿寒摩周国立公園'\n",
        "df_weather.loc[df_weather['地点']=='熊本' ,'地点'] = '阿蘇くじゅう国立公園'\n",
        "df_weather.loc[df_weather['地点']=='鹿児島' ,'地点'] = '霧島錦江湾国立公園'\n",
        "\n",
        "# 必要な特徴量の抽出\n",
        "df_weather = df_weather[['地点','日時','最低気温(℃)','降水量の合計(mm)','降雪量合計(cm)']]\n",
        "df_weather = df_weather.rename(columns={'地点': 'park','日時': 'datetime','最低気温(℃)': 'temp','降水量の合計(mm)': 'rain','降雪量合計(cm)': 'snow'})\n",
        "df_weather[['temp','rain','snow']] = df_weather[['temp','rain','snow']].shift(-1)\n",
        "df_weather.head()"
      ],
      "execution_count": 40,
      "outputs": [
        {
          "output_type": "execute_result",
          "data": {
            "text/html": [
              "<div>\n",
              "<style scoped>\n",
              "    .dataframe tbody tr th:only-of-type {\n",
              "        vertical-align: middle;\n",
              "    }\n",
              "\n",
              "    .dataframe tbody tr th {\n",
              "        vertical-align: top;\n",
              "    }\n",
              "\n",
              "    .dataframe thead th {\n",
              "        text-align: right;\n",
              "    }\n",
              "</style>\n",
              "<table border=\"1\" class=\"dataframe\">\n",
              "  <thead>\n",
              "    <tr style=\"text-align: right;\">\n",
              "      <th></th>\n",
              "      <th>park</th>\n",
              "      <th>datetime</th>\n",
              "      <th>temp</th>\n",
              "      <th>rain</th>\n",
              "      <th>snow</th>\n",
              "    </tr>\n",
              "  </thead>\n",
              "  <tbody>\n",
              "    <tr>\n",
              "      <th>0</th>\n",
              "      <td>十和田八幡平国立公園</td>\n",
              "      <td>2015-01-01</td>\n",
              "      <td>-8.0</td>\n",
              "      <td>0.0</td>\n",
              "      <td>0.0</td>\n",
              "    </tr>\n",
              "    <tr>\n",
              "      <th>1</th>\n",
              "      <td>十和田八幡平国立公園</td>\n",
              "      <td>2015-01-02</td>\n",
              "      <td>-8.9</td>\n",
              "      <td>2.0</td>\n",
              "      <td>9.0</td>\n",
              "    </tr>\n",
              "    <tr>\n",
              "      <th>2</th>\n",
              "      <td>十和田八幡平国立公園</td>\n",
              "      <td>2015-01-03</td>\n",
              "      <td>-1.6</td>\n",
              "      <td>0.0</td>\n",
              "      <td>1.0</td>\n",
              "    </tr>\n",
              "    <tr>\n",
              "      <th>3</th>\n",
              "      <td>十和田八幡平国立公園</td>\n",
              "      <td>2015-01-04</td>\n",
              "      <td>-5.1</td>\n",
              "      <td>0.0</td>\n",
              "      <td>0.0</td>\n",
              "    </tr>\n",
              "    <tr>\n",
              "      <th>4</th>\n",
              "      <td>十和田八幡平国立公園</td>\n",
              "      <td>2015-01-05</td>\n",
              "      <td>-3.1</td>\n",
              "      <td>0.0</td>\n",
              "      <td>0.0</td>\n",
              "    </tr>\n",
              "  </tbody>\n",
              "</table>\n",
              "</div>"
            ],
            "text/plain": [
              "         park   datetime  temp  rain  snow\n",
              "0  十和田八幡平国立公園 2015-01-01  -8.0   0.0   0.0\n",
              "1  十和田八幡平国立公園 2015-01-02  -8.9   2.0   9.0\n",
              "2  十和田八幡平国立公園 2015-01-03  -1.6   0.0   1.0\n",
              "3  十和田八幡平国立公園 2015-01-04  -5.1   0.0   0.0\n",
              "4  十和田八幡平国立公園 2015-01-05  -3.1   0.0   0.0"
            ]
          },
          "metadata": {
            "tags": []
          },
          "execution_count": 40
        }
      ]
    },
    {
      "metadata": {
        "id": "NJh1YIVXJmO7",
        "colab_type": "text"
      },
      "cell_type": "markdown",
      "source": [
        "## 乗り換え案内データ"
      ]
    },
    {
      "metadata": {
        "id": "9FbLgsuAIH9W",
        "colab_type": "code",
        "colab": {
          "base_uri": "https://localhost:8080/",
          "height": 204
        },
        "outputId": "5fb4b1e4-f496-4ab8-cef2-9ee5feac1d7a"
      },
      "cell_type": "code",
      "source": [
        "#from google.colab import files\n",
        "#df_jorudan = pd.read_csv('/content/gdrive/My Drive/jorudan.tsv',sep='\\t')\n",
        "#df_jorudan = df_jorudan.groupby(['access_date','park'],as_index=False).count()\n",
        "#df_jorudan = df_jorudan[['access_date','park','access_time']]\n",
        "#df_jorudan['access_date'] = pd.to_datetime(df_jorudan['access_date'])\n",
        "#df_jorudan = df_jorudan.rename(columns={'access_date': 'datetime','access_time': 'jordan_count'})\n",
        "#df_jorudan.to_csv('processed_jorudan.tsv',sep='\\t',)\n",
        "#files.download('processed_jorudan.tsv')\n",
        "df_jorudan = pd.read_table('/content/gdrive/My Drive/processed_jorudan.tsv',index_col=0)\n",
        "df_jorudan['datetime'] = pd.to_datetime(df_jorudan['datetime'])\n",
        "df_jorudan['jordan_count'] = df_jorudan['jordan_count'].shift(-1)\n",
        "df_jorudan.head()"
      ],
      "execution_count": 53,
      "outputs": [
        {
          "output_type": "execute_result",
          "data": {
            "text/html": [
              "<div>\n",
              "<style scoped>\n",
              "    .dataframe tbody tr th:only-of-type {\n",
              "        vertical-align: middle;\n",
              "    }\n",
              "\n",
              "    .dataframe tbody tr th {\n",
              "        vertical-align: top;\n",
              "    }\n",
              "\n",
              "    .dataframe thead th {\n",
              "        text-align: right;\n",
              "    }\n",
              "</style>\n",
              "<table border=\"1\" class=\"dataframe\">\n",
              "  <thead>\n",
              "    <tr style=\"text-align: right;\">\n",
              "      <th></th>\n",
              "      <th>datetime</th>\n",
              "      <th>park</th>\n",
              "      <th>jordan_count</th>\n",
              "    </tr>\n",
              "  </thead>\n",
              "  <tbody>\n",
              "    <tr>\n",
              "      <th>0</th>\n",
              "      <td>2015-01-01</td>\n",
              "      <td>伊勢志摩国立公園</td>\n",
              "      <td>7309.0</td>\n",
              "    </tr>\n",
              "    <tr>\n",
              "      <th>1</th>\n",
              "      <td>2015-01-01</td>\n",
              "      <td>十和田八幡平国立公園</td>\n",
              "      <td>855.0</td>\n",
              "    </tr>\n",
              "    <tr>\n",
              "      <th>2</th>\n",
              "      <td>2015-01-01</td>\n",
              "      <td>大山隠岐国立公園</td>\n",
              "      <td>14048.0</td>\n",
              "    </tr>\n",
              "    <tr>\n",
              "      <th>3</th>\n",
              "      <td>2015-01-01</td>\n",
              "      <td>日光国立公園</td>\n",
              "      <td>814.0</td>\n",
              "    </tr>\n",
              "    <tr>\n",
              "      <th>4</th>\n",
              "      <td>2015-01-01</td>\n",
              "      <td>阿寒摩周国立公園</td>\n",
              "      <td>90.0</td>\n",
              "    </tr>\n",
              "  </tbody>\n",
              "</table>\n",
              "</div>"
            ],
            "text/plain": [
              "    datetime        park  jordan_count\n",
              "0 2015-01-01    伊勢志摩国立公園        7309.0\n",
              "1 2015-01-01  十和田八幡平国立公園         855.0\n",
              "2 2015-01-01    大山隠岐国立公園       14048.0\n",
              "3 2015-01-01      日光国立公園         814.0\n",
              "4 2015-01-01    阿寒摩周国立公園          90.0"
            ]
          },
          "metadata": {
            "tags": []
          },
          "execution_count": 53
        }
      ]
    },
    {
      "metadata": {
        "id": "ynQsDgKkr1Rp",
        "colab_type": "text"
      },
      "cell_type": "markdown",
      "source": [
        "# 作成した特徴量と学習データの結合"
      ]
    },
    {
      "metadata": {
        "id": "gGvINYxWr1Rp",
        "colab_type": "code",
        "colab": {
          "base_uri": "https://localhost:8080/",
          "height": 250
        },
        "outputId": "14fa09ae-6fae-49e1-bf2b-bba0294cea88"
      },
      "cell_type": "code",
      "source": [
        "# 学習データと休日データの結合\n",
        "df_merged = pd.merge(df_train,df_holiday_exc_wkend,on='datetime')\n",
        "\n",
        "# 学習データと⼤⼭気象データの結合\n",
        "#df_oyama['datetime'] = pd.to_datetime(df_oyama['datetime'])\n",
        "#df_merged = pd.merge(df_merged,df_oyama,on=['大山隠岐国立公園','datetime'],how='left')\n",
        "\n",
        "# 学習データとSNS投稿データ(日光)の結合\n",
        "#df_nightley['datetime'] = pd.to_datetime(df_nightley['datetime'])\n",
        "#df_merged = pd.merge(df_merged,df_nightley,on=['日光国立公園','datetime'],how='left')\n",
        "#df_merged['Jpn_cnt_ystday'] = df_merged['Jpn_cnt_ystday'].fillna(avg_japan)\n",
        "#df_merged.head()\n",
        "\n",
        "# 学習データとsin/cosカーブデータの結合\n",
        "df_datetime_train = df_train[~df_train.duplicated(subset='datetime')]['datetime']\n",
        "df_datetime_train = df_datetime_train.reset_index()\n",
        "df_datetime_train = df_datetime_train['datetime']\n",
        "df_sin_cos_tan = pd.concat([df_datetime_train,df_sin_cur_train,df_cos_cur_train,df_tan_cur_train], axis=1)\n",
        "df_sin_cos_tan.columns = ['datetime', 'sin', 'cos','tan']\n",
        "df_merged = pd.merge(df_merged,df_sin_cos_tan,on='datetime')\n",
        "\n",
        "# 学習データと気象データの結合\n",
        "df_merged = pd.merge(df_merged,df_weather,on=['park','datetime'],how='left')\n",
        "df_merged = df_merged.fillna(df_merged.mean())\n",
        "\n",
        "# 学習データと乗り換え案内データの結合\n",
        "#df_merged = pd.merge(df_merged,df_jorudan,on=['park','datetime'],how='left')\n",
        "\n",
        "# Target Encoding\n",
        "#df_merged = pd.merge(df_merged,df_visitors_mean,on='park')\n",
        "#df_merged.head()\n",
        "\n",
        "# drop columns which is not needed\n",
        "df_except_y = df_merged.drop(['park','visitors','datetime','day'], axis=1)\n",
        "#df_except_y = df_merged.drop(['park','visitors','datetime','day','Mon','Tue','Wed','Thu','Fri','Sat','Sun'], axis=1)\n",
        "#df_except_y = df_merged.drop(['park','visitors','datetime','Mon','Tue','Wed','Thu','Fri','Sat','Sun'], axis=1)\n",
        "\n",
        "X_train = df_except_y.as_matrix() \n",
        "y_train = df_merged['visitors'].as_matrix()\n",
        "df_except_y.head()\n"
      ],
      "execution_count": 47,
      "outputs": [
        {
          "output_type": "execute_result",
          "data": {
            "text/html": [
              "<div>\n",
              "<style scoped>\n",
              "    .dataframe tbody tr th:only-of-type {\n",
              "        vertical-align: middle;\n",
              "    }\n",
              "\n",
              "    .dataframe tbody tr th {\n",
              "        vertical-align: top;\n",
              "    }\n",
              "\n",
              "    .dataframe thead th {\n",
              "        text-align: right;\n",
              "    }\n",
              "</style>\n",
              "<table border=\"1\" class=\"dataframe\">\n",
              "  <thead>\n",
              "    <tr style=\"text-align: right;\">\n",
              "      <th></th>\n",
              "      <th>year</th>\n",
              "      <th>month</th>\n",
              "      <th>dayofweek</th>\n",
              "      <th>伊勢志摩国立公園</th>\n",
              "      <th>十和田八幡平国立公園</th>\n",
              "      <th>大山隠岐国立公園</th>\n",
              "      <th>慶良間諸島国立公園</th>\n",
              "      <th>日光国立公園</th>\n",
              "      <th>阿寒摩周国立公園</th>\n",
              "      <th>阿蘇くじゅう国立公園</th>\n",
              "      <th>...</th>\n",
              "      <th>Fri</th>\n",
              "      <th>Sat</th>\n",
              "      <th>Sun</th>\n",
              "      <th>pub_holiday</th>\n",
              "      <th>sin</th>\n",
              "      <th>cos</th>\n",
              "      <th>tan</th>\n",
              "      <th>temp</th>\n",
              "      <th>rain</th>\n",
              "      <th>snow</th>\n",
              "    </tr>\n",
              "  </thead>\n",
              "  <tbody>\n",
              "    <tr>\n",
              "      <th>0</th>\n",
              "      <td>2015</td>\n",
              "      <td>1</td>\n",
              "      <td>3</td>\n",
              "      <td>0</td>\n",
              "      <td>0</td>\n",
              "      <td>0</td>\n",
              "      <td>0</td>\n",
              "      <td>0</td>\n",
              "      <td>1</td>\n",
              "      <td>0</td>\n",
              "      <td>...</td>\n",
              "      <td>0</td>\n",
              "      <td>0</td>\n",
              "      <td>0</td>\n",
              "      <td>1</td>\n",
              "      <td>0.0</td>\n",
              "      <td>1.0</td>\n",
              "      <td>0.0</td>\n",
              "      <td>-13.600000</td>\n",
              "      <td>0.0</td>\n",
              "      <td>0.000000</td>\n",
              "    </tr>\n",
              "    <tr>\n",
              "      <th>1</th>\n",
              "      <td>2015</td>\n",
              "      <td>1</td>\n",
              "      <td>3</td>\n",
              "      <td>0</td>\n",
              "      <td>1</td>\n",
              "      <td>0</td>\n",
              "      <td>0</td>\n",
              "      <td>0</td>\n",
              "      <td>0</td>\n",
              "      <td>0</td>\n",
              "      <td>...</td>\n",
              "      <td>0</td>\n",
              "      <td>0</td>\n",
              "      <td>0</td>\n",
              "      <td>1</td>\n",
              "      <td>0.0</td>\n",
              "      <td>1.0</td>\n",
              "      <td>0.0</td>\n",
              "      <td>-8.000000</td>\n",
              "      <td>0.0</td>\n",
              "      <td>0.000000</td>\n",
              "    </tr>\n",
              "    <tr>\n",
              "      <th>2</th>\n",
              "      <td>2015</td>\n",
              "      <td>1</td>\n",
              "      <td>3</td>\n",
              "      <td>0</td>\n",
              "      <td>0</td>\n",
              "      <td>0</td>\n",
              "      <td>0</td>\n",
              "      <td>1</td>\n",
              "      <td>0</td>\n",
              "      <td>0</td>\n",
              "      <td>...</td>\n",
              "      <td>0</td>\n",
              "      <td>0</td>\n",
              "      <td>0</td>\n",
              "      <td>1</td>\n",
              "      <td>0.0</td>\n",
              "      <td>1.0</td>\n",
              "      <td>0.0</td>\n",
              "      <td>-9.100000</td>\n",
              "      <td>0.0</td>\n",
              "      <td>1.000000</td>\n",
              "    </tr>\n",
              "    <tr>\n",
              "      <th>3</th>\n",
              "      <td>2015</td>\n",
              "      <td>1</td>\n",
              "      <td>3</td>\n",
              "      <td>1</td>\n",
              "      <td>0</td>\n",
              "      <td>0</td>\n",
              "      <td>0</td>\n",
              "      <td>0</td>\n",
              "      <td>0</td>\n",
              "      <td>0</td>\n",
              "      <td>...</td>\n",
              "      <td>0</td>\n",
              "      <td>0</td>\n",
              "      <td>0</td>\n",
              "      <td>1</td>\n",
              "      <td>0.0</td>\n",
              "      <td>1.0</td>\n",
              "      <td>0.0</td>\n",
              "      <td>-1.900000</td>\n",
              "      <td>0.0</td>\n",
              "      <td>0.538304</td>\n",
              "    </tr>\n",
              "    <tr>\n",
              "      <th>4</th>\n",
              "      <td>2015</td>\n",
              "      <td>1</td>\n",
              "      <td>3</td>\n",
              "      <td>0</td>\n",
              "      <td>0</td>\n",
              "      <td>1</td>\n",
              "      <td>0</td>\n",
              "      <td>0</td>\n",
              "      <td>0</td>\n",
              "      <td>0</td>\n",
              "      <td>...</td>\n",
              "      <td>0</td>\n",
              "      <td>0</td>\n",
              "      <td>0</td>\n",
              "      <td>1</td>\n",
              "      <td>0.0</td>\n",
              "      <td>1.0</td>\n",
              "      <td>0.0</td>\n",
              "      <td>10.694098</td>\n",
              "      <td>16.0</td>\n",
              "      <td>21.000000</td>\n",
              "    </tr>\n",
              "  </tbody>\n",
              "</table>\n",
              "<p>5 rows × 25 columns</p>\n",
              "</div>"
            ],
            "text/plain": [
              "   year  month  dayofweek  伊勢志摩国立公園  十和田八幡平国立公園  大山隠岐国立公園  慶良間諸島国立公園  日光国立公園  \\\n",
              "0  2015      1          3         0           0         0          0       0   \n",
              "1  2015      1          3         0           1         0          0       0   \n",
              "2  2015      1          3         0           0         0          0       1   \n",
              "3  2015      1          3         1           0         0          0       0   \n",
              "4  2015      1          3         0           0         1          0       0   \n",
              "\n",
              "   阿寒摩周国立公園  阿蘇くじゅう国立公園    ...      Fri  Sat  Sun  pub_holiday  sin  cos  tan  \\\n",
              "0         1           0    ...        0    0    0            1  0.0  1.0  0.0   \n",
              "1         0           0    ...        0    0    0            1  0.0  1.0  0.0   \n",
              "2         0           0    ...        0    0    0            1  0.0  1.0  0.0   \n",
              "3         0           0    ...        0    0    0            1  0.0  1.0  0.0   \n",
              "4         0           0    ...        0    0    0            1  0.0  1.0  0.0   \n",
              "\n",
              "        temp  rain       snow  \n",
              "0 -13.600000   0.0   0.000000  \n",
              "1  -8.000000   0.0   0.000000  \n",
              "2  -9.100000   0.0   1.000000  \n",
              "3  -1.900000   0.0   0.538304  \n",
              "4  10.694098  16.0  21.000000  \n",
              "\n",
              "[5 rows x 25 columns]"
            ]
          },
          "metadata": {
            "tags": []
          },
          "execution_count": 47
        }
      ]
    },
    {
      "metadata": {
        "id": "34e9FqKRr1R4",
        "colab_type": "text"
      },
      "cell_type": "markdown",
      "source": [
        "# 作成した特徴量とテストデータの結合"
      ]
    },
    {
      "metadata": {
        "id": "Y7Npm4nIr1R5",
        "colab_type": "code",
        "colab": {
          "base_uri": "https://localhost:8080/",
          "height": 250
        },
        "outputId": "85c555c2-b277-4954-f2a8-ebeba25b36da"
      },
      "cell_type": "code",
      "source": [
        "# holidayデータとのマージ\n",
        "#df_test_merged = pd.merge(df_test,df_holiday,on='datetime')\n",
        "df_test_merged = pd.merge(df_test,df_holiday_exc_wkend,on='datetime')\n",
        "#df_test_merged = pd.merge(df_test_merged,df_holiday_exc_wkend,on='datetime')\n",
        "\n",
        "# testデータと⼤⼭気象データの結合\n",
        "#df_test_merged = pd.merge(df_test_merged,df_oyama,on=['大山隠岐国立公園','datetime'],how='left')\n",
        "\n",
        "# testデータとSNS投稿データ(日光)の結合\n",
        "#df_nightley['datetime'] = pd.to_datetime(df_nightley['datetime'])\n",
        "#df_test_merged = pd.merge(df_test_merged,df_nightley,on=['日光国立公園','datetime'],how='left')\n",
        "#df_test_merged.head()\n",
        "\n",
        "# sin/cos/tanカーブデータとのマージ\n",
        "df_datetime_test = df_test[~df_test.duplicated(subset='datetime')]['datetime']\n",
        "df_datetime_test = df_datetime_test.reset_index()\n",
        "df_datetime_test = df_datetime_test['datetime']\n",
        "df_sin_cos_test = pd.concat([df_datetime_test,df_sin_cur_test,df_cos_cur_test,df_tan_cur_test], axis=1)\n",
        "df_sin_cos_test.columns =  ['datetime', 'sin', 'cos','tan']\n",
        "df_test_merged = pd.merge(df_test_merged,df_sin_cos_test,on='datetime')\n",
        "\n",
        "# 学習データと気象データの結合\n",
        "df_test_merged = pd.merge(df_test_merged,df_weather,on=['park','datetime'],how='left')\n",
        "df_test_merged = df_test_merged.fillna(df_test_merged.mean())\n",
        "df_test_merged.head()\n",
        "\n",
        "# 学習データと乗り換え案内データの結合\n",
        "#df_test_merged = pd.merge(df_test_merged,df_jorudan,on=['park','datetime'],how='left')\n",
        "\n",
        "# target encodingとのマージ\n",
        "#df_test_merged = pd.merge(df_test_merged,df_visitors_mean,on='park')\n",
        "#df_test_merged.head()\n",
        "\n",
        "# drop columns which is not needed\n",
        "#df_test_merged = df_test_merged.drop(['park','datetime','index','day','Mon','Tue','Wed','Thu','Fri','Sat','Sun'], axis=1)\n",
        "#df_test_merged = df_test_merged.drop(['park','datetime','index','Mon','Tue','Wed','Thu','Fri','Sat','Sun'], axis=1)\n",
        "df_test_merged = df_test_merged.drop(['park','datetime','index','day'], axis=1)\n",
        "\n",
        "X_test = df_test_merged.as_matrix()\n",
        "df_test_merged.head()"
      ],
      "execution_count": 48,
      "outputs": [
        {
          "output_type": "execute_result",
          "data": {
            "text/html": [
              "<div>\n",
              "<style scoped>\n",
              "    .dataframe tbody tr th:only-of-type {\n",
              "        vertical-align: middle;\n",
              "    }\n",
              "\n",
              "    .dataframe tbody tr th {\n",
              "        vertical-align: top;\n",
              "    }\n",
              "\n",
              "    .dataframe thead th {\n",
              "        text-align: right;\n",
              "    }\n",
              "</style>\n",
              "<table border=\"1\" class=\"dataframe\">\n",
              "  <thead>\n",
              "    <tr style=\"text-align: right;\">\n",
              "      <th></th>\n",
              "      <th>year</th>\n",
              "      <th>month</th>\n",
              "      <th>dayofweek</th>\n",
              "      <th>伊勢志摩国立公園</th>\n",
              "      <th>十和田八幡平国立公園</th>\n",
              "      <th>大山隠岐国立公園</th>\n",
              "      <th>慶良間諸島国立公園</th>\n",
              "      <th>日光国立公園</th>\n",
              "      <th>阿寒摩周国立公園</th>\n",
              "      <th>阿蘇くじゅう国立公園</th>\n",
              "      <th>...</th>\n",
              "      <th>Fri</th>\n",
              "      <th>Sat</th>\n",
              "      <th>Sun</th>\n",
              "      <th>pub_holiday</th>\n",
              "      <th>sin</th>\n",
              "      <th>cos</th>\n",
              "      <th>tan</th>\n",
              "      <th>temp</th>\n",
              "      <th>rain</th>\n",
              "      <th>snow</th>\n",
              "    </tr>\n",
              "  </thead>\n",
              "  <tbody>\n",
              "    <tr>\n",
              "      <th>0</th>\n",
              "      <td>2017</td>\n",
              "      <td>1</td>\n",
              "      <td>6</td>\n",
              "      <td>0</td>\n",
              "      <td>0</td>\n",
              "      <td>0</td>\n",
              "      <td>0</td>\n",
              "      <td>0</td>\n",
              "      <td>1</td>\n",
              "      <td>0</td>\n",
              "      <td>...</td>\n",
              "      <td>0</td>\n",
              "      <td>0</td>\n",
              "      <td>1</td>\n",
              "      <td>0</td>\n",
              "      <td>0.0</td>\n",
              "      <td>1.0</td>\n",
              "      <td>0.0</td>\n",
              "      <td>-13.4000</td>\n",
              "      <td>0.0</td>\n",
              "      <td>0.000000</td>\n",
              "    </tr>\n",
              "    <tr>\n",
              "      <th>1</th>\n",
              "      <td>2017</td>\n",
              "      <td>1</td>\n",
              "      <td>6</td>\n",
              "      <td>0</td>\n",
              "      <td>1</td>\n",
              "      <td>0</td>\n",
              "      <td>0</td>\n",
              "      <td>0</td>\n",
              "      <td>0</td>\n",
              "      <td>0</td>\n",
              "      <td>...</td>\n",
              "      <td>0</td>\n",
              "      <td>0</td>\n",
              "      <td>1</td>\n",
              "      <td>0</td>\n",
              "      <td>0.0</td>\n",
              "      <td>1.0</td>\n",
              "      <td>0.0</td>\n",
              "      <td>-1.5000</td>\n",
              "      <td>4.5</td>\n",
              "      <td>0.000000</td>\n",
              "    </tr>\n",
              "    <tr>\n",
              "      <th>2</th>\n",
              "      <td>2017</td>\n",
              "      <td>1</td>\n",
              "      <td>6</td>\n",
              "      <td>0</td>\n",
              "      <td>0</td>\n",
              "      <td>0</td>\n",
              "      <td>0</td>\n",
              "      <td>1</td>\n",
              "      <td>0</td>\n",
              "      <td>0</td>\n",
              "      <td>...</td>\n",
              "      <td>0</td>\n",
              "      <td>0</td>\n",
              "      <td>1</td>\n",
              "      <td>0</td>\n",
              "      <td>0.0</td>\n",
              "      <td>1.0</td>\n",
              "      <td>0.0</td>\n",
              "      <td>-4.2000</td>\n",
              "      <td>0.0</td>\n",
              "      <td>0.000000</td>\n",
              "    </tr>\n",
              "    <tr>\n",
              "      <th>3</th>\n",
              "      <td>2017</td>\n",
              "      <td>1</td>\n",
              "      <td>6</td>\n",
              "      <td>1</td>\n",
              "      <td>0</td>\n",
              "      <td>0</td>\n",
              "      <td>0</td>\n",
              "      <td>0</td>\n",
              "      <td>0</td>\n",
              "      <td>0</td>\n",
              "      <td>...</td>\n",
              "      <td>0</td>\n",
              "      <td>0</td>\n",
              "      <td>1</td>\n",
              "      <td>0</td>\n",
              "      <td>0.0</td>\n",
              "      <td>1.0</td>\n",
              "      <td>0.0</td>\n",
              "      <td>1.7000</td>\n",
              "      <td>0.0</td>\n",
              "      <td>0.708983</td>\n",
              "    </tr>\n",
              "    <tr>\n",
              "      <th>4</th>\n",
              "      <td>2017</td>\n",
              "      <td>1</td>\n",
              "      <td>6</td>\n",
              "      <td>0</td>\n",
              "      <td>0</td>\n",
              "      <td>1</td>\n",
              "      <td>0</td>\n",
              "      <td>0</td>\n",
              "      <td>0</td>\n",
              "      <td>0</td>\n",
              "      <td>...</td>\n",
              "      <td>0</td>\n",
              "      <td>0</td>\n",
              "      <td>1</td>\n",
              "      <td>0</td>\n",
              "      <td>0.0</td>\n",
              "      <td>1.0</td>\n",
              "      <td>0.0</td>\n",
              "      <td>9.9969</td>\n",
              "      <td>0.0</td>\n",
              "      <td>0.000000</td>\n",
              "    </tr>\n",
              "  </tbody>\n",
              "</table>\n",
              "<p>5 rows × 25 columns</p>\n",
              "</div>"
            ],
            "text/plain": [
              "   year  month  dayofweek  伊勢志摩国立公園  十和田八幡平国立公園  大山隠岐国立公園  慶良間諸島国立公園  日光国立公園  \\\n",
              "0  2017      1          6         0           0         0          0       0   \n",
              "1  2017      1          6         0           1         0          0       0   \n",
              "2  2017      1          6         0           0         0          0       1   \n",
              "3  2017      1          6         1           0         0          0       0   \n",
              "4  2017      1          6         0           0         1          0       0   \n",
              "\n",
              "   阿寒摩周国立公園  阿蘇くじゅう国立公園    ...     Fri  Sat  Sun  pub_holiday  sin  cos  tan  \\\n",
              "0         1           0    ...       0    0    1            0  0.0  1.0  0.0   \n",
              "1         0           0    ...       0    0    1            0  0.0  1.0  0.0   \n",
              "2         0           0    ...       0    0    1            0  0.0  1.0  0.0   \n",
              "3         0           0    ...       0    0    1            0  0.0  1.0  0.0   \n",
              "4         0           0    ...       0    0    1            0  0.0  1.0  0.0   \n",
              "\n",
              "      temp  rain      snow  \n",
              "0 -13.4000   0.0  0.000000  \n",
              "1  -1.5000   4.5  0.000000  \n",
              "2  -4.2000   0.0  0.000000  \n",
              "3   1.7000   0.0  0.708983  \n",
              "4   9.9969   0.0  0.000000  \n",
              "\n",
              "[5 rows x 25 columns]"
            ]
          },
          "metadata": {
            "tags": []
          },
          "execution_count": 48
        }
      ]
    },
    {
      "metadata": {
        "id": "Fwl1jBSNH5sA",
        "colab_type": "text"
      },
      "cell_type": "markdown",
      "source": [
        "# CV用モデル作成"
      ]
    },
    {
      "metadata": {
        "id": "5j0pKB9kzFz7",
        "colab_type": "text"
      },
      "cell_type": "markdown",
      "source": [
        " ## Neural Network"
      ]
    },
    {
      "metadata": {
        "id": "PgWzkYRNzopF",
        "colab_type": "code",
        "colab": {}
      },
      "cell_type": "code",
      "source": [
        "# Neural Network\n",
        "from keras.models import Sequential\n",
        "from keras.layers import Dense\n",
        "from keras.wrappers.scikit_learn import KerasRegressor\n",
        "\n",
        "def create_model(optimizer='adam'):\n",
        "    model = Sequential()\n",
        "    model.add(Dense(X_train.shape[1], input_dim=X_train.shape[1], kernel_initializer='normal', activation='relu'))\n",
        "    model.add(Dense(16, kernel_initializer='normal', activation='relu'))\n",
        "    model.add(Dense(1, kernel_initializer='normal'))\n",
        "\n",
        "    model.compile(loss='mean_absolute_error', optimizer=optimizer)\n",
        "    return model\n",
        "\n",
        "X_train_cv, X_test_cv, y_train_cv, y_test_cv = train_test_split(X_train, y_train,test_size=0.5,random_state=0,shuffle=False)\n",
        "\n",
        "model = KerasRegressor(build_fn=create_model, verbose=0)\n",
        "# define the grid search parameters\n",
        "optimizer = ['SGD','Adam']\n",
        "batch_size = [10, 30, 50]\n",
        "epochs = [10, 50, 100]\n",
        "param_grid = dict(optimizer=optimizer, batch_size=batch_size, epochs=epochs)\n",
        "reg_dl = GridSearchCV(estimator=model, param_grid=param_grid, n_jobs=-1)\n",
        "reg_dl.fit(X_train_cv, y_train_cv)\n",
        "\n",
        "# predict\n",
        "y_test_pred_dl = reg_dl.predict(X_test_cv)\n",
        "y_train_pred_dl = reg_dl.predict(X_train_cv)"
      ],
      "execution_count": 0,
      "outputs": []
    },
    {
      "metadata": {
        "id": "zff-bi051t6p",
        "colab_type": "code",
        "colab": {}
      },
      "cell_type": "code",
      "source": [
        "# 評価\n",
        "from sklearn.metrics import mean_absolute_error\n",
        "print('MAE train：{0}'.format(mean_absolute_error(y_train_cv, y_test_pred_dl)))\n",
        "print('MAE test：{0}'.format(mean_absolute_error(y_test_cv, y_train_pred_dl)))"
      ],
      "execution_count": 0,
      "outputs": []
    },
    {
      "metadata": {
        "id": "tE0yFQeLIBOZ",
        "colab_type": "text"
      },
      "cell_type": "markdown",
      "source": [
        "## Support Vector Regression"
      ]
    },
    {
      "metadata": {
        "id": "P8MT1ipFDwZK",
        "colab_type": "code",
        "colab": {}
      },
      "cell_type": "code",
      "source": [
        "# SVR\n",
        "from sklearn.svm import SVR\n",
        "from sklearn.model_selection import train_test_split\n",
        "\n",
        "reg_svr = GridSearchCV(SVR(kernel='rbf', gamma=0.1), cv=5,\n",
        "                   param_grid={\"C\": [1e0, 1e1, 1e2, 1e3],\n",
        "                               \"gamma\": np.logspace(-2, 2, 5)})\n",
        "\n",
        "X_train_cv, X_test_cv, y_train_cv, y_test_cv = train_test_split(X_train, y_train,test_size=0.5,random_state=0,shuffle=False)\n",
        "\n",
        "# training\n",
        "reg_svr.fit(X_train_cv, y_train_cv)\n",
        "\n",
        "# predict\n",
        "y_test_pred_svr= reg_svr.predict(X_test_cv)\n",
        "y_train_pred_svr = reg_svr.predict(X_train_cv)"
      ],
      "execution_count": 0,
      "outputs": []
    },
    {
      "metadata": {
        "id": "r62De9bpNetz",
        "colab_type": "code",
        "colab": {}
      },
      "cell_type": "code",
      "source": [
        "# 評価\n",
        "from sklearn.metrics import mean_absolute_error\n",
        "print('MAE train：{0}'.format(mean_absolute_error(y_train_cv, y_test_pred_svr)))\n",
        "print('MAE test：{0}'.format(mean_absolute_error(y_test_cv, y_train_pred_svr)))"
      ],
      "execution_count": 0,
      "outputs": []
    },
    {
      "metadata": {
        "id": "cUjLZH0vr1R-",
        "colab_type": "text"
      },
      "cell_type": "markdown",
      "source": [
        "## xgboost"
      ]
    },
    {
      "metadata": {
        "id": "FVXPLiW8UTvk",
        "colab_type": "code",
        "colab": {
          "base_uri": "https://localhost:8080/",
          "height": 187
        },
        "outputId": "022b5967-d761-4aac-a87c-d9ab762ad05f"
      },
      "cell_type": "code",
      "source": [
        "import math\n",
        "import xgboost as xgb\n",
        "from sklearn.grid_search import GridSearchCV\n",
        "from sklearn.model_selection import train_test_split\n",
        "\n",
        "# parametar tuning\n",
        "params = {\"learning_rate\":[0.1,0.3,0.5],\n",
        "        \"max_depth\": [2,3,5,10],\n",
        "         \"subsample\":[0.5,0.8,0.9,1],\n",
        "         \"colsample_bytree\": [0.5,1.0],\n",
        "         }\n",
        "\n",
        "model = xgb.XGBRegressor()\n",
        "cv = GridSearchCV(model,params,cv=10,n_jobs=-1)\n",
        "\n",
        "# cross validation\n",
        "X_train_cv, X_test_cv, y_train_cv, y_test_cv = train_test_split(X_train, y_train,test_size=0.5,random_state=0,shuffle=False)\n",
        "\n",
        "# model\n",
        "cv.fit(X_train_cv, y_train_cv)"
      ],
      "execution_count": 49,
      "outputs": [
        {
          "output_type": "execute_result",
          "data": {
            "text/plain": [
              "GridSearchCV(cv=10, error_score='raise',\n",
              "       estimator=XGBRegressor(base_score=0.5, booster='gbtree', colsample_bylevel=1,\n",
              "       colsample_bytree=1, gamma=0, learning_rate=0.1, max_delta_step=0,\n",
              "       max_depth=3, min_child_weight=1, missing=None, n_estimators=100,\n",
              "       n_jobs=1, nthread=None, objective='reg:linear', random_state=0,\n",
              "       reg_alpha=0, reg_lambda=1, scale_pos_weight=1, seed=None,\n",
              "       silent=True, subsample=1),\n",
              "       fit_params={}, iid=True, n_jobs=-1,\n",
              "       param_grid={'learning_rate': [0.1, 0.3, 0.5], 'max_depth': [2, 3, 5, 10], 'subsample': [0.5, 0.8, 0.9, 1], 'colsample_bytree': [0.5, 1.0]},\n",
              "       pre_dispatch='2*n_jobs', refit=True, scoring=None, verbose=0)"
            ]
          },
          "metadata": {
            "tags": []
          },
          "execution_count": 49
        }
      ]
    },
    {
      "metadata": {
        "id": "jjUpDdNhr1Sc",
        "colab_type": "code",
        "colab": {
          "base_uri": "https://localhost:8080/",
          "height": 51
        },
        "outputId": "c39cde67-f52a-4cc9-9f6d-09ab15315119"
      },
      "cell_type": "code",
      "source": [
        "# predict\n",
        "y_test_pred = cv.predict(X_test_cv)\n",
        "y_train_pred = cv.predict(X_train_cv)\n",
        "\n",
        "# 評価\n",
        "from sklearn.metrics import mean_absolute_error\n",
        "print('MAE train：{0}'.format(mean_absolute_error(y_train_cv, y_train_pred)))\n",
        "print('MAE test：{0}'.format(mean_absolute_error(y_test_cv, y_test_pred)))"
      ],
      "execution_count": 50,
      "outputs": [
        {
          "output_type": "stream",
          "text": [
            "MAE train：1174.5318283936883\n",
            "MAE test：3313.4409045781713\n"
          ],
          "name": "stdout"
        }
      ]
    },
    {
      "metadata": {
        "id": "Tj5cdF0B4WXl",
        "colab_type": "text"
      },
      "cell_type": "markdown",
      "source": [
        "# 結果まとめ\n",
        "\n",
        "### sin cos追加\n",
        "MAE test：1630.9984953020241  \n",
        "MAE train：903.9336502896668  \n",
        "提出結果：1815.2318495033333\n",
        "\n",
        "### sin cos tan\n",
        "MAE train：1179.305741077898  \n",
        "MAE test：2629.263019825626  \n",
        "提出結果：1,745.20888\n",
        "\n",
        "### sin cos tan, year削除\n",
        "MAE train：2045.7497492293164  \n",
        "MAE test：2843.218553122352  \n",
        "提出結果：1,729.58493\n",
        "\n",
        "### sin cos tan, sin*2. cos*2, tan*2 year削除\n",
        "MAE train：2059.769329007771  \n",
        "MAE test：2853.8435037211093  \n",
        "提出結果：1,805.52980\t\n",
        "\n",
        "### sin cos tan year削除, SNS投稿データ\n",
        "MAE train：1149.2940249979576  \n",
        "MAE test：2128.5665729553853  \n",
        "提出結果：3260.9467285\n",
        "\n",
        "### sin cos tan year削除, SNS投稿データ(日本のみ)\n",
        "MAE train：1158.1524901505861  \n",
        "MAE test：2157.12182194655   \n",
        "提出結果：\n",
        "\n",
        "### sin cos追加、曜日のone hotを削除\n",
        "MAE train：1179.305741077898  \n",
        "MAE test：2629.263019825626  \n",
        "提出結果：1887.2631403236114  \n",
        "\n",
        "### sin cos追加、ターゲットエンコーディングを追加\n",
        "MAE train：230.22719528671817  \n",
        "MAE test：3480.3254402260286  \n",
        "提出結果： 6635\n",
        "\n",
        "### 天気データの追加\n",
        "MAE train：1176.080447904307  \n",
        "MAE test：2373.349943665041  \n",
        "提出結果\n",
        "\n",
        "### 天気データを前日分に\n",
        "MAE train：1159.7607339889666  \n",
        "MAE test：2203.4220731597593  \n",
        "提出結果：1,669.39766\n",
        "\n",
        "### 天気データをさらに追加\n",
        "MAE train：1124.0197923472087  \n",
        "MAE test：2539.49772573822  \n",
        "提出結果：\n",
        "\n",
        "### 天気データをさらに追加 曜日のone hotを削除\n",
        "MAE train：1165.2507907665868  \n",
        "MAE test：2291.2666961655896  \n",
        "提出結果：1731.6747202465278\n",
        "\n",
        "### 学び\n",
        "- MAE trainとMAE testの差が小さいほど、提出結果もよくなる\n",
        "- なので単純にMAE testが低ければいいという感じでもない"
      ]
    },
    {
      "metadata": {
        "id": "Zt14zQVf1uz8",
        "colab_type": "text"
      },
      "cell_type": "markdown",
      "source": [
        "# 誤差分析\n",
        "Residuals：残差(誤差の推定量)"
      ]
    },
    {
      "metadata": {
        "id": "V9J-n6dVv4MK",
        "colab_type": "code",
        "colab": {
          "base_uri": "https://localhost:8080/",
          "height": 442
        },
        "outputId": "9afa86aa-a49e-42a6-c603-4c15f3a6fd34"
      },
      "cell_type": "code",
      "source": [
        "# import matplotlib\n",
        "import matplotlib.pyplot as plt\n",
        "%matplotlib inline\n",
        "\n",
        "# plot\n",
        "plt.figure(figsize = (10, 7))\n",
        "plt.scatter(y_train_pred, y_train_pred - y_train_cv, c = 'black', marker = 'o', s = 35, alpha = 0.5, label = 'Training data')\n",
        "plt.scatter(y_test_pred, y_test_pred - y_test_cv, c = 'lightgreen', marker = 's', s = 35, alpha = 0.7, label = 'Test data')\n",
        "#plt.scatter(y_train_pred, y_train_cv, c = 'black', marker = 'o', s = 35, alpha = 0.5, label = 'Training data')\n",
        "#plt.scatter(y_test_pred, y_test_cv, c = 'lightgreen', marker = 's', s = 35, alpha = 0.7, label = 'Test data')\n",
        "\n",
        "plt.xlabel('Predicted values')\n",
        "plt.ylabel('Residuals')\n",
        "plt.legend(loc = 'upper left')\n",
        "plt.hlines(y = 0, xmin = -10, xmax = 50, lw = 2, color = 'red')\n",
        "plt.xlim([-10000, 100000])\n",
        "plt.show()"
      ],
      "execution_count": 54,
      "outputs": [
        {
          "output_type": "display_data",
          "data": {
            "image/png": "[encoded data removed]",
            "text/plain": [
              "<matplotlib.figure.Figure at 0x7fe52cc04d68>"
            ]
          },
          "metadata": {
            "tags": []
          }
        }
      ]
    },
    {
      "metadata": {
        "id": "7Rrxd1s9NpKq",
        "colab_type": "text"
      },
      "cell_type": "markdown",
      "source": [
        "# 提出用モデル作成"
      ]
    },
    {
      "metadata": {
        "id": "sMewzQLrr1Sf",
        "colab_type": "code",
        "colab": {
          "base_uri": "https://localhost:8080/",
          "height": 187
        },
        "outputId": "28e9650b-91e6-4b7f-8d3d-a7b0bff2ffa8"
      },
      "cell_type": "code",
      "source": [
        "# model\n",
        "cv.fit(X_train, y_train)"
      ],
      "execution_count": 55,
      "outputs": [
        {
          "output_type": "execute_result",
          "data": {
            "text/plain": [
              "GridSearchCV(cv=10, error_score='raise',\n",
              "       estimator=XGBRegressor(base_score=0.5, booster='gbtree', colsample_bylevel=1,\n",
              "       colsample_bytree=1, gamma=0, learning_rate=0.1, max_delta_step=0,\n",
              "       max_depth=3, min_child_weight=1, missing=None, n_estimators=100,\n",
              "       n_jobs=1, nthread=None, objective='reg:linear', random_state=0,\n",
              "       reg_alpha=0, reg_lambda=1, scale_pos_weight=1, seed=None,\n",
              "       silent=True, subsample=1),\n",
              "       fit_params={}, iid=True, n_jobs=-1,\n",
              "       param_grid={'learning_rate': [0.1, 0.3, 0.5], 'max_depth': [2, 3, 5, 10], 'subsample': [0.5, 0.8, 0.9, 1], 'colsample_bytree': [0.5, 1.0]},\n",
              "       pre_dispatch='2*n_jobs', refit=True, scoring=None, verbose=0)"
            ]
          },
          "metadata": {
            "tags": []
          },
          "execution_count": 55
        }
      ]
    },
    {
      "metadata": {
        "id": "oow2UL8rr1Sh",
        "colab_type": "code",
        "colab": {
          "base_uri": "https://localhost:8080/",
          "height": 119
        },
        "outputId": "98c98d51-3565-48ab-acbd-a9ee25254571"
      },
      "cell_type": "code",
      "source": [
        "# model\n",
        "reg = xgb.XGBRegressor(**cv.best_params_)\n",
        "reg.fit(X_train, y_train)"
      ],
      "execution_count": 56,
      "outputs": [
        {
          "output_type": "execute_result",
          "data": {
            "text/plain": [
              "XGBRegressor(base_score=0.5, booster='gbtree', colsample_bylevel=1,\n",
              "       colsample_bytree=1.0, gamma=0, learning_rate=0.1, max_delta_step=0,\n",
              "       max_depth=10, min_child_weight=1, missing=None, n_estimators=100,\n",
              "       n_jobs=1, nthread=None, objective='reg:linear', random_state=0,\n",
              "       reg_alpha=0, reg_lambda=1, scale_pos_weight=1, seed=None,\n",
              "       silent=True, subsample=0.5)"
            ]
          },
          "metadata": {
            "tags": []
          },
          "execution_count": 56
        }
      ]
    },
    {
      "metadata": {
        "id": "75Di16NZr1Sl",
        "colab_type": "code",
        "colab": {}
      },
      "cell_type": "code",
      "source": [
        "# 学習モデルの保存、読み込み\n",
        "import pickle\n",
        "#pickle.dump(reg, open(\"../model/model_19.pkl\", \"wb\"))\n",
        "#reg = pickle.load(open(\"../model/model_8.pkl\", \"rb\"))"
      ],
      "execution_count": 0,
      "outputs": []
    },
    {
      "metadata": {
        "id": "mXKeYNDbr1Sp",
        "colab_type": "code",
        "colab": {
          "base_uri": "https://localhost:8080/",
          "height": 280
        },
        "outputId": "a3a92ec4-df3c-4a0f-cd53-9c096e9a5e42"
      },
      "cell_type": "code",
      "source": [
        "# future importance\n",
        "import pandas as pd\n",
        "import matplotlib.pyplot as plt\n",
        "importances = pd.Series(reg.feature_importances_, index = df_except_y.columns)\n",
        "importances = importances.sort_values()\n",
        "importances.plot(kind = \"barh\")\n",
        "plt.title(\"imporance in the xgboost Model\")\n",
        "plt.show()"
      ],
      "execution_count": 58,
      "outputs": [
        {
          "output_type": "display_data",
          "data": {
            "image/png": "[encoded data removed]",
            "text/plain": [
              "<matplotlib.figure.Figure at 0x7fe515b4cf98>"
            ]
          },
          "metadata": {
            "tags": []
          }
        }
      ]
    },
    {
      "metadata": {
        "id": "CJSDK5IWr1St",
        "colab_type": "code",
        "colab": {
          "base_uri": "https://localhost:8080/",
          "height": 311
        },
        "outputId": "7cf71cab-6f1f-4ebc-aef9-2750da598e0c"
      },
      "cell_type": "code",
      "source": [
        "features =df_except_y.columns[df_except_y.any()]\n",
        "mapper = {'f{0}'.format(i): v for i, v in enumerate(features)}\n",
        "mapped = {mapper[k]: v for k, v in reg._Booster.get_fscore().items()}\n",
        "xgb.plot_importance(mapped)"
      ],
      "execution_count": 59,
      "outputs": [
        {
          "output_type": "execute_result",
          "data": {
            "text/plain": [
              "<matplotlib.axes._subplots.AxesSubplot at 0x7fe518a3b898>"
            ]
          },
          "metadata": {
            "tags": []
          },
          "execution_count": 59
        },
        {
          "output_type": "display_data",
          "data": {
            "image/png": "[encoded data removed]",
            "text/plain": [
              "<matplotlib.figure.Figure at 0x7fe515dab390>"
            ]
          },
          "metadata": {
            "tags": []
          }
        }
      ]
    },
    {
      "metadata": {
        "id": "6SRD876Yr1Sy",
        "colab_type": "code",
        "colab": {}
      },
      "cell_type": "code",
      "source": [
        "# predict\n",
        "y_train_pred = reg.predict(X_train)\n",
        "y_test_pred = reg.predict(X_test)"
      ],
      "execution_count": 0,
      "outputs": []
    },
    {
      "metadata": {
        "id": "Wz6ZXGvCr1S6",
        "colab_type": "code",
        "colab": {}
      },
      "cell_type": "code",
      "source": [
        "# create submit file\n",
        "df_submit = pd.DataFrame({\n",
        "    '':df_test['index'],\n",
        "    '':y_test_pred})\n",
        "# pandas.[DataFrame or Series].where(cond,other=xxx) condがFalseの時にotherを代入\n",
        "# マイナスと予測した結果を０に修正\n",
        "df_submit =df_submit.where(df_submit.iloc[:, [0]] > 0, 100)"
      ],
      "execution_count": 0,
      "outputs": []
    },
    {
      "metadata": {
        "id": "UDhgEevTr1TB",
        "colab_type": "code",
        "colab": {}
      },
      "cell_type": "code",
      "source": [
        "from google.colab import files\n",
        "num = 26\n",
        "df_submit.to_csv('submit_{0}.tsv'.format(num),sep='\\t',header=None)\n",
        "df_merged.to_csv('train_{0}.tsv'.format(num),sep='\\t',header=None)\n",
        "df_test_merged.to_csv('test_{0}.tsv'.format(num),sep='\\t',header=None)\n",
        "files.download('submit_{0}.tsv'.format(num))\n",
        "files.download('train_{0}.tsv'.format(num))\n",
        "files.download('test_{0}.tsv'.format(num))"
      ],
      "execution_count": 0,
      "outputs": []
    },
    {
      "metadata": {
        "id": "35Y5RiaWEuef",
        "colab_type": "code",
        "colab": {}
      },
      "cell_type": "code",
      "source": [
        "# second feature matrix\n",
        "X_train2 = pd.DataFrame( {'XGB': reg.predict(X_train),\n",
        "     'SVR': reg_svr.predict(X_train),\n",
        "    })\n",
        "X_train2.tail()"
      ],
      "execution_count": 0,
      "outputs": []
    },
    {
      "metadata": {
        "id": "wb8fki0GFTaG",
        "colab_type": "code",
        "colab": {}
      },
      "cell_type": "code",
      "source": [
        ""
      ],
      "execution_count": 0,
      "outputs": []
    },
    {
      "metadata": {
        "id": "IVZG-mg7BKEn",
        "colab_type": "code",
        "colab": {}
      },
      "cell_type": "code",
      "source": [
        "# second-feature modeling using linear regression\n",
        "from sklearn import linear_model\n",
        "\n",
        "reg = linear_model.LinearRegression()\n",
        "reg.fit(X_train2, y_train)\n",
        "\n"
      ],
      "execution_count": 0,
      "outputs": []
    },
    {
      "metadata": {
        "id": "7BOSfVW6FGEd",
        "colab_type": "code",
        "colab": {}
      },
      "cell_type": "code",
      "source": [
        "# prediction using the test set\n",
        "X_test2 = pd.DataFrame( {'XGB': reg.predict(X_test),\n",
        "     'SVR': reg_svr.predict(X_test)\n",
        "    })\n",
        "\n",
        "# Don't forget to convert the prediction back to non-log scale\n",
        "y_pred = np.exp(reg.predict(X_test2))\n",
        "\n",
        "submission.to_csv('houseprice.csv', index=False)\n",
        "\n",
        "# create submit file\n",
        "df_submit = pd.DataFrame({\n",
        "    '':df_test['index'],\n",
        "    '':y_pred})\n",
        "# pandas.[DataFrame or Series].where(cond,other=xxx) condがFalseの時にotherを代入\n",
        "# マイナスと予測した結果を０に修正\n",
        "df_submit =df_submit.where(df_submit.iloc[:, [0]] > 0, 0)"
      ],
      "execution_count": 0,
      "outputs": []
    }
  ]
}